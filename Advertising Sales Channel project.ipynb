{
 "cells": [
  {
   "cell_type": "code",
   "execution_count": 150,
   "id": "00ede799",
   "metadata": {},
   "outputs": [],
   "source": [
    "# Importing the required libraries\n",
    "import numpy as np\n",
    "import pandas as pd\n",
    "import matplotlib.pyplot as plt\n",
    "import seaborn as sns\n",
    "import warnings\n",
    "warnings.filterwarnings('ignore')\n",
    "from sklearn.linear_model import LogisticRegression\n",
    "from sklearn.tree import DecisionTreeClassifier\n",
    "from sklearn.model_selection import GridSearchCV\n",
    "from sklearn.model_selection import train_test_split\n",
    "from sklearn.neighbors import KNeighborsClassifier\n",
    "from sklearn.naive_bayes import GaussianNB\n",
    "from sklearn.ensemble import RandomForestClassifier\n",
    "from sklearn.preprocessing import StandardScaler\n",
    "from sklearn.metrics import accuracy_score, confusion_matrix, roc_curve, roc_auc_score\n",
    "import statsmodels.api as sma\n",
    "from statsmodels.stats.outliers_influence import variance_inflation_factor\n",
    "from sklearn.model_selection import cross_val_score\n",
    "from sklearn.ensemble import RandomForestRegressor\n",
    "from sklearn.metrics import r2_score\n",
    "from sklearn.metrics import mean_squared_error\n",
    "\n"
   ]
  },
  {
   "cell_type": "code",
   "execution_count": 152,
   "id": "926047a3",
   "metadata": {},
   "outputs": [
    {
     "data": {
      "text/html": [
       "<div>\n",
       "<style scoped>\n",
       "    .dataframe tbody tr th:only-of-type {\n",
       "        vertical-align: middle;\n",
       "    }\n",
       "\n",
       "    .dataframe tbody tr th {\n",
       "        vertical-align: top;\n",
       "    }\n",
       "\n",
       "    .dataframe thead th {\n",
       "        text-align: right;\n",
       "    }\n",
       "</style>\n",
       "<table border=\"1\" class=\"dataframe\">\n",
       "  <thead>\n",
       "    <tr style=\"text-align: right;\">\n",
       "      <th></th>\n",
       "      <th>Unnamed: 0</th>\n",
       "      <th>TV</th>\n",
       "      <th>radio</th>\n",
       "      <th>newspaper</th>\n",
       "      <th>sales</th>\n",
       "    </tr>\n",
       "  </thead>\n",
       "  <tbody>\n",
       "    <tr>\n",
       "      <th>0</th>\n",
       "      <td>1</td>\n",
       "      <td>230.1</td>\n",
       "      <td>37.8</td>\n",
       "      <td>69.2</td>\n",
       "      <td>22.1</td>\n",
       "    </tr>\n",
       "    <tr>\n",
       "      <th>1</th>\n",
       "      <td>2</td>\n",
       "      <td>44.5</td>\n",
       "      <td>39.3</td>\n",
       "      <td>45.1</td>\n",
       "      <td>10.4</td>\n",
       "    </tr>\n",
       "    <tr>\n",
       "      <th>2</th>\n",
       "      <td>3</td>\n",
       "      <td>17.2</td>\n",
       "      <td>45.9</td>\n",
       "      <td>69.3</td>\n",
       "      <td>9.3</td>\n",
       "    </tr>\n",
       "    <tr>\n",
       "      <th>3</th>\n",
       "      <td>4</td>\n",
       "      <td>151.5</td>\n",
       "      <td>41.3</td>\n",
       "      <td>58.5</td>\n",
       "      <td>18.5</td>\n",
       "    </tr>\n",
       "    <tr>\n",
       "      <th>4</th>\n",
       "      <td>5</td>\n",
       "      <td>180.8</td>\n",
       "      <td>10.8</td>\n",
       "      <td>58.4</td>\n",
       "      <td>12.9</td>\n",
       "    </tr>\n",
       "    <tr>\n",
       "      <th>...</th>\n",
       "      <td>...</td>\n",
       "      <td>...</td>\n",
       "      <td>...</td>\n",
       "      <td>...</td>\n",
       "      <td>...</td>\n",
       "    </tr>\n",
       "    <tr>\n",
       "      <th>195</th>\n",
       "      <td>196</td>\n",
       "      <td>38.2</td>\n",
       "      <td>3.7</td>\n",
       "      <td>13.8</td>\n",
       "      <td>7.6</td>\n",
       "    </tr>\n",
       "    <tr>\n",
       "      <th>196</th>\n",
       "      <td>197</td>\n",
       "      <td>94.2</td>\n",
       "      <td>4.9</td>\n",
       "      <td>8.1</td>\n",
       "      <td>9.7</td>\n",
       "    </tr>\n",
       "    <tr>\n",
       "      <th>197</th>\n",
       "      <td>198</td>\n",
       "      <td>177.0</td>\n",
       "      <td>9.3</td>\n",
       "      <td>6.4</td>\n",
       "      <td>12.8</td>\n",
       "    </tr>\n",
       "    <tr>\n",
       "      <th>198</th>\n",
       "      <td>199</td>\n",
       "      <td>283.6</td>\n",
       "      <td>42.0</td>\n",
       "      <td>66.2</td>\n",
       "      <td>25.5</td>\n",
       "    </tr>\n",
       "    <tr>\n",
       "      <th>199</th>\n",
       "      <td>200</td>\n",
       "      <td>232.1</td>\n",
       "      <td>8.6</td>\n",
       "      <td>8.7</td>\n",
       "      <td>13.4</td>\n",
       "    </tr>\n",
       "  </tbody>\n",
       "</table>\n",
       "<p>200 rows × 5 columns</p>\n",
       "</div>"
      ],
      "text/plain": [
       "     Unnamed: 0     TV  radio  newspaper  sales\n",
       "0             1  230.1   37.8       69.2   22.1\n",
       "1             2   44.5   39.3       45.1   10.4\n",
       "2             3   17.2   45.9       69.3    9.3\n",
       "3             4  151.5   41.3       58.5   18.5\n",
       "4             5  180.8   10.8       58.4   12.9\n",
       "..          ...    ...    ...        ...    ...\n",
       "195         196   38.2    3.7       13.8    7.6\n",
       "196         197   94.2    4.9        8.1    9.7\n",
       "197         198  177.0    9.3        6.4   12.8\n",
       "198         199  283.6   42.0       66.2   25.5\n",
       "199         200  232.1    8.6        8.7   13.4\n",
       "\n",
       "[200 rows x 5 columns]"
      ]
     },
     "execution_count": 152,
     "metadata": {},
     "output_type": "execute_result"
    }
   ],
   "source": [
    "df = pd.read_csv('C:/USERS/YASHN/SALES CHANNEL.CSV')\n",
    "df"
   ]
  },
  {
   "cell_type": "code",
   "execution_count": 153,
   "id": "09dce3f6",
   "metadata": {},
   "outputs": [],
   "source": [
    "df = df.drop(\"Unnamed: 0\", axis=1)"
   ]
  },
  {
   "cell_type": "code",
   "execution_count": 154,
   "id": "80ae57ae",
   "metadata": {},
   "outputs": [
    {
     "data": {
      "text/plain": [
       "TV           0\n",
       "radio        0\n",
       "newspaper    0\n",
       "sales        0\n",
       "dtype: int64"
      ]
     },
     "execution_count": 154,
     "metadata": {},
     "output_type": "execute_result"
    }
   ],
   "source": [
    "# Checking the null values\n",
    "df.isnull().sum()"
   ]
  },
  {
   "cell_type": "code",
   "execution_count": 155,
   "id": "09375583",
   "metadata": {},
   "outputs": [
    {
     "name": "stdout",
     "output_type": "stream",
     "text": [
      "<class 'pandas.core.frame.DataFrame'>\n",
      "RangeIndex: 200 entries, 0 to 199\n",
      "Data columns (total 4 columns):\n",
      " #   Column     Non-Null Count  Dtype  \n",
      "---  ------     --------------  -----  \n",
      " 0   TV         200 non-null    float64\n",
      " 1   radio      200 non-null    float64\n",
      " 2   newspaper  200 non-null    float64\n",
      " 3   sales      200 non-null    float64\n",
      "dtypes: float64(4)\n",
      "memory usage: 6.4 KB\n"
     ]
    }
   ],
   "source": [
    "df.info()"
   ]
  },
  {
   "cell_type": "code",
   "execution_count": 156,
   "id": "2c8a6221",
   "metadata": {},
   "outputs": [
    {
     "data": {
      "text/html": [
       "<div>\n",
       "<style scoped>\n",
       "    .dataframe tbody tr th:only-of-type {\n",
       "        vertical-align: middle;\n",
       "    }\n",
       "\n",
       "    .dataframe tbody tr th {\n",
       "        vertical-align: top;\n",
       "    }\n",
       "\n",
       "    .dataframe thead th {\n",
       "        text-align: right;\n",
       "    }\n",
       "</style>\n",
       "<table border=\"1\" class=\"dataframe\">\n",
       "  <thead>\n",
       "    <tr style=\"text-align: right;\">\n",
       "      <th></th>\n",
       "      <th>TV</th>\n",
       "      <th>radio</th>\n",
       "      <th>newspaper</th>\n",
       "      <th>sales</th>\n",
       "    </tr>\n",
       "  </thead>\n",
       "  <tbody>\n",
       "    <tr>\n",
       "      <th>count</th>\n",
       "      <td>200.000000</td>\n",
       "      <td>200.000000</td>\n",
       "      <td>200.000000</td>\n",
       "      <td>200.000000</td>\n",
       "    </tr>\n",
       "    <tr>\n",
       "      <th>mean</th>\n",
       "      <td>147.042500</td>\n",
       "      <td>23.264000</td>\n",
       "      <td>30.554000</td>\n",
       "      <td>14.022500</td>\n",
       "    </tr>\n",
       "    <tr>\n",
       "      <th>std</th>\n",
       "      <td>85.854236</td>\n",
       "      <td>14.846809</td>\n",
       "      <td>21.778621</td>\n",
       "      <td>5.217457</td>\n",
       "    </tr>\n",
       "    <tr>\n",
       "      <th>min</th>\n",
       "      <td>0.700000</td>\n",
       "      <td>0.000000</td>\n",
       "      <td>0.300000</td>\n",
       "      <td>1.600000</td>\n",
       "    </tr>\n",
       "    <tr>\n",
       "      <th>25%</th>\n",
       "      <td>74.375000</td>\n",
       "      <td>9.975000</td>\n",
       "      <td>12.750000</td>\n",
       "      <td>10.375000</td>\n",
       "    </tr>\n",
       "    <tr>\n",
       "      <th>50%</th>\n",
       "      <td>149.750000</td>\n",
       "      <td>22.900000</td>\n",
       "      <td>25.750000</td>\n",
       "      <td>12.900000</td>\n",
       "    </tr>\n",
       "    <tr>\n",
       "      <th>75%</th>\n",
       "      <td>218.825000</td>\n",
       "      <td>36.525000</td>\n",
       "      <td>45.100000</td>\n",
       "      <td>17.400000</td>\n",
       "    </tr>\n",
       "    <tr>\n",
       "      <th>max</th>\n",
       "      <td>296.400000</td>\n",
       "      <td>49.600000</td>\n",
       "      <td>114.000000</td>\n",
       "      <td>27.000000</td>\n",
       "    </tr>\n",
       "  </tbody>\n",
       "</table>\n",
       "</div>"
      ],
      "text/plain": [
       "               TV       radio   newspaper       sales\n",
       "count  200.000000  200.000000  200.000000  200.000000\n",
       "mean   147.042500   23.264000   30.554000   14.022500\n",
       "std     85.854236   14.846809   21.778621    5.217457\n",
       "min      0.700000    0.000000    0.300000    1.600000\n",
       "25%     74.375000    9.975000   12.750000   10.375000\n",
       "50%    149.750000   22.900000   25.750000   12.900000\n",
       "75%    218.825000   36.525000   45.100000   17.400000\n",
       "max    296.400000   49.600000  114.000000   27.000000"
      ]
     },
     "execution_count": 156,
     "metadata": {},
     "output_type": "execute_result"
    }
   ],
   "source": [
    "# Statistical Summary\n",
    "df.describe()"
   ]
  },
  {
   "cell_type": "code",
   "execution_count": 157,
   "id": "0ee12470",
   "metadata": {},
   "outputs": [
    {
     "data": {
      "text/plain": [
       "(200, 4)"
      ]
     },
     "execution_count": 157,
     "metadata": {},
     "output_type": "execute_result"
    }
   ],
   "source": [
    "# Checking the dimensions\n",
    "df.shape"
   ]
  },
  {
   "cell_type": "code",
   "execution_count": 158,
   "id": "b1ddb067",
   "metadata": {},
   "outputs": [
    {
     "data": {
      "text/plain": [
       "TV          -0.069853\n",
       "radio        0.094175\n",
       "newspaper    0.894720\n",
       "sales        0.407571\n",
       "dtype: float64"
      ]
     },
     "execution_count": 158,
     "metadata": {},
     "output_type": "execute_result"
    }
   ],
   "source": [
    "#Checking the skewness\n",
    "df.skew()"
   ]
  },
  {
   "cell_type": "markdown",
   "id": "8e428099",
   "metadata": {},
   "source": [
    "There is no such skewness present in the data"
   ]
  },
  {
   "cell_type": "code",
   "execution_count": 159,
   "id": "9eb5abfe",
   "metadata": {},
   "outputs": [
    {
     "data": {
      "text/plain": [
       "Index(['TV', 'radio', 'newspaper', 'sales'], dtype='object')"
      ]
     },
     "execution_count": 159,
     "metadata": {},
     "output_type": "execute_result"
    }
   ],
   "source": [
    "df.columns"
   ]
  },
  {
   "cell_type": "code",
   "execution_count": 160,
   "id": "08699055",
   "metadata": {},
   "outputs": [
    {
     "data": {
      "text/plain": [
       "array([[<AxesSubplot:title={'center':'TV'}>,\n",
       "        <AxesSubplot:title={'center':'radio'}>,\n",
       "        <AxesSubplot:title={'center':'newspaper'}>,\n",
       "        <AxesSubplot:title={'center':'sales'}>],\n",
       "       [<AxesSubplot:>, <AxesSubplot:>, <AxesSubplot:>, <AxesSubplot:>]],\n",
       "      dtype=object)"
      ]
     },
     "execution_count": 160,
     "metadata": {},
     "output_type": "execute_result"
    },
    {
     "data": {
      "image/png": "[encoded data removed]",
      "text/plain": [
       "<Figure size 1440x720 with 8 Axes>"
      ]
     },
     "metadata": {
      "needs_background": "light"
     },
     "output_type": "display_data"
    }
   ],
   "source": [
    "# Data Visualisation\n",
    "# plotting histogram\n",
    "df.hist(figsize = (20,10), layout = (2,4))"
   ]
  },
  {
   "cell_type": "code",
   "execution_count": 127,
   "id": "00ac7a04",
   "metadata": {},
   "outputs": [
    {
     "data": {
      "text/plain": [
       "<AxesSubplot:>"
      ]
     },
     "execution_count": 127,
     "metadata": {},
     "output_type": "execute_result"
    },
    {
     "data": {
      "image/png": "[encoded data removed]",
      "text/plain": [
       "<Figure size 432x288 with 2 Axes>"
      ]
     },
     "metadata": {
      "needs_background": "light"
     },
     "output_type": "display_data"
    }
   ],
   "source": [
    "# plotting heatmap\n",
    "sns.heatmap(df.isnull())"
   ]
  },
  {
   "cell_type": "code",
   "execution_count": 128,
   "id": "16fefcef",
   "metadata": {},
   "outputs": [
    {
     "data": {
      "text/html": [
       "<div>\n",
       "<style scoped>\n",
       "    .dataframe tbody tr th:only-of-type {\n",
       "        vertical-align: middle;\n",
       "    }\n",
       "\n",
       "    .dataframe tbody tr th {\n",
       "        vertical-align: top;\n",
       "    }\n",
       "\n",
       "    .dataframe thead th {\n",
       "        text-align: right;\n",
       "    }\n",
       "</style>\n",
       "<table border=\"1\" class=\"dataframe\">\n",
       "  <thead>\n",
       "    <tr style=\"text-align: right;\">\n",
       "      <th></th>\n",
       "      <th>TV</th>\n",
       "      <th>radio</th>\n",
       "      <th>newspaper</th>\n",
       "      <th>sales</th>\n",
       "    </tr>\n",
       "  </thead>\n",
       "  <tbody>\n",
       "    <tr>\n",
       "      <th>TV</th>\n",
       "      <td>1.000000</td>\n",
       "      <td>0.054809</td>\n",
       "      <td>0.056648</td>\n",
       "      <td>0.782224</td>\n",
       "    </tr>\n",
       "    <tr>\n",
       "      <th>radio</th>\n",
       "      <td>0.054809</td>\n",
       "      <td>1.000000</td>\n",
       "      <td>0.354104</td>\n",
       "      <td>0.576223</td>\n",
       "    </tr>\n",
       "    <tr>\n",
       "      <th>newspaper</th>\n",
       "      <td>0.056648</td>\n",
       "      <td>0.354104</td>\n",
       "      <td>1.000000</td>\n",
       "      <td>0.228299</td>\n",
       "    </tr>\n",
       "    <tr>\n",
       "      <th>sales</th>\n",
       "      <td>0.782224</td>\n",
       "      <td>0.576223</td>\n",
       "      <td>0.228299</td>\n",
       "      <td>1.000000</td>\n",
       "    </tr>\n",
       "  </tbody>\n",
       "</table>\n",
       "</div>"
      ],
      "text/plain": [
       "                 TV     radio  newspaper     sales\n",
       "TV         1.000000  0.054809   0.056648  0.782224\n",
       "radio      0.054809  1.000000   0.354104  0.576223\n",
       "newspaper  0.056648  0.354104   1.000000  0.228299\n",
       "sales      0.782224  0.576223   0.228299  1.000000"
      ]
     },
     "execution_count": 128,
     "metadata": {},
     "output_type": "execute_result"
    }
   ],
   "source": [
    "# Checking Correlation\n",
    "df.corr()\n"
   ]
  },
  {
   "cell_type": "code",
   "execution_count": 129,
   "id": "eafa0823",
   "metadata": {},
   "outputs": [
    {
     "data": {
      "image/png": "[encoded data removed]",
      "text/plain": [
       "<Figure size 576x504 with 2 Axes>"
      ]
     },
     "metadata": {
      "needs_background": "light"
     },
     "output_type": "display_data"
    }
   ],
   "source": [
    "corr_hmap=df.corr()\n",
    "plt.figure(figsize=(8,7))\n",
    "sns.heatmap(corr_hmap,annot=True)\n",
    "plt.show()"
   ]
  },
  {
   "cell_type": "code",
   "execution_count": 130,
   "id": "2fdf6f9c",
   "metadata": {
    "scrolled": false
   },
   "outputs": [
    {
     "data": {
      "image/png": "[encoded data removed]",
      "text/plain": [
       "<Figure size 1058.4x504 with 3 Axes>"
      ]
     },
     "metadata": {
      "needs_background": "light"
     },
     "output_type": "display_data"
    }
   ],
   "source": [
    "# Checking the relation betweeen sales and other variables\n",
    "sns.pairplot(df, x_vars=['TV','radio','newspaper'], y_vars='sales', height=7, aspect=0.7);"
   ]
  },
  {
   "cell_type": "markdown",
   "id": "c1ab6828",
   "metadata": {},
   "source": [
    "As per the  correlation heatmap and the scatterplot, the variable TV seems to be most correlated with Sales"
   ]
  },
  {
   "cell_type": "code",
   "execution_count": 131,
   "id": "b12de056",
   "metadata": {},
   "outputs": [
    {
     "data": {
      "text/plain": [
       "<AxesSubplot:xlabel='TV', ylabel='Density'>"
      ]
     },
     "execution_count": 131,
     "metadata": {},
     "output_type": "execute_result"
    },
    {
     "data": {
      "image/png": "[encoded data removed]",
      "text/plain": [
       "<Figure size 432x288 with 1 Axes>"
      ]
     },
     "metadata": {
      "needs_background": "light"
     },
     "output_type": "display_data"
    }
   ],
   "source": [
    "sns.distplot(df['TV'])"
   ]
  },
  {
   "cell_type": "code",
   "execution_count": 132,
   "id": "279d4109",
   "metadata": {},
   "outputs": [
    {
     "data": {
      "text/plain": [
       "<AxesSubplot:xlabel='radio', ylabel='Density'>"
      ]
     },
     "execution_count": 132,
     "metadata": {},
     "output_type": "execute_result"
    },
    {
     "data": {
      "image/png": "[encoded data removed]",
      "text/plain": [
       "<Figure size 432x288 with 1 Axes>"
      ]
     },
     "metadata": {
      "needs_background": "light"
     },
     "output_type": "display_data"
    }
   ],
   "source": [
    "sns.distplot(df['radio'])"
   ]
  },
  {
   "cell_type": "code",
   "execution_count": 133,
   "id": "063b3312",
   "metadata": {},
   "outputs": [
    {
     "data": {
      "text/plain": [
       "<AxesSubplot:xlabel='newspaper', ylabel='Density'>"
      ]
     },
     "execution_count": 133,
     "metadata": {},
     "output_type": "execute_result"
    },
    {
     "data": {
      "image/png": "[encoded data removed]",
      "text/plain": [
       "<Figure size 432x288 with 1 Axes>"
      ]
     },
     "metadata": {
      "needs_background": "light"
     },
     "output_type": "display_data"
    }
   ],
   "source": [
    "sns.distplot(df['newspaper'])"
   ]
  },
  {
   "cell_type": "code",
   "execution_count": 134,
   "id": "d481373e",
   "metadata": {},
   "outputs": [
    {
     "data": {
      "text/plain": [
       "<AxesSubplot:xlabel='sales', ylabel='Density'>"
      ]
     },
     "execution_count": 134,
     "metadata": {},
     "output_type": "execute_result"
    },
    {
     "data": {
      "image/png": "[encoded data removed]",
      "text/plain": [
       "<Figure size 432x288 with 1 Axes>"
      ]
     },
     "metadata": {
      "needs_background": "light"
     },
     "output_type": "display_data"
    }
   ],
   "source": [
    "sns.distplot(df['sales'])"
   ]
  },
  {
   "cell_type": "markdown",
   "id": "f3be5ba2",
   "metadata": {},
   "source": [
    "As per above graphs, we can see all the columns are normally distributed"
   ]
  },
  {
   "cell_type": "code",
   "execution_count": 29,
   "id": "dcba5a81",
   "metadata": {},
   "outputs": [],
   "source": [
    "# Checking the relation betwen sales and other variables "
   ]
  },
  {
   "cell_type": "code",
   "execution_count": 82,
   "id": "88a1608a",
   "metadata": {},
   "outputs": [
    {
     "data": {
      "text/plain": [
       "<seaborn.axisgrid.FacetGrid at 0x2498025d670>"
      ]
     },
     "execution_count": 82,
     "metadata": {},
     "output_type": "execute_result"
    },
    {
     "data": {
      "image/png": "[encoded data removed]",
      "text/plain": [
       "<Figure size 360x360 with 1 Axes>"
      ]
     },
     "metadata": {
      "needs_background": "light"
     },
     "output_type": "display_data"
    }
   ],
   "source": [
    "sns.relplot(x=\"TV\", y=\"sales\", kind=\"line\", data=df)"
   ]
  },
  {
   "cell_type": "code",
   "execution_count": 83,
   "id": "b6c1e93f",
   "metadata": {},
   "outputs": [
    {
     "data": {
      "text/plain": [
       "<seaborn.axisgrid.FacetGrid at 0x249803af700>"
      ]
     },
     "execution_count": 83,
     "metadata": {},
     "output_type": "execute_result"
    },
    {
     "data": {
      "image/png": "[encoded data removed]",
      "text/plain": [
       "<Figure size 360x360 with 1 Axes>"
      ]
     },
     "metadata": {
      "needs_background": "light"
     },
     "output_type": "display_data"
    }
   ],
   "source": [
    "sns.relplot(x=\"radio\", y=\"sales\", kind=\"line\", data=df)"
   ]
  },
  {
   "cell_type": "code",
   "execution_count": 84,
   "id": "87d4ff4b",
   "metadata": {},
   "outputs": [
    {
     "data": {
      "text/plain": [
       "<seaborn.axisgrid.FacetGrid at 0x24980356d00>"
      ]
     },
     "execution_count": 84,
     "metadata": {},
     "output_type": "execute_result"
    },
    {
     "data": {
      "image/png": "[encoded data removed]",
      "text/plain": [
       "<Figure size 360x360 with 1 Axes>"
      ]
     },
     "metadata": {
      "needs_background": "light"
     },
     "output_type": "display_data"
    }
   ],
   "source": [
    "sns.relplot(x=\"newspaper\", y=\"sales\", kind=\"line\", data=df)"
   ]
  },
  {
   "cell_type": "code",
   "execution_count": 85,
   "id": "e4a215ab",
   "metadata": {},
   "outputs": [
    {
     "data": {
      "image/png": "[encoded data removed]",
      "text/plain": [
       "<Figure size 864x504 with 4 Axes>"
      ]
     },
     "metadata": {
      "needs_background": "light"
     },
     "output_type": "display_data"
    }
   ],
   "source": [
    "# checking outliers\n",
    "fig, ax = plt.subplots(ncols=4, nrows=1, figsize=(12,7))\n",
    "index = 0\n",
    "ax = ax.flatten()\n",
    "for col, value in df.items():\n",
    "    sns.boxplot(y=col, data=df, ax=ax[index], palette=\"plasma\")\n",
    "    index += 1\n",
    "plt.tight_layout(pad=0.2, w_pad=0.9, h_pad=5.0)\n",
    "plt.show()"
   ]
  },
  {
   "cell_type": "markdown",
   "id": "35cc9fbf",
   "metadata": {},
   "source": [
    "There are no considerable outliers present in the data."
   ]
  },
  {
   "cell_type": "code",
   "execution_count": 86,
   "id": "270abb80",
   "metadata": {},
   "outputs": [
    {
     "data": {
      "text/plain": [
       "27     5\n",
       "54     4\n",
       "74     4\n",
       "43     4\n",
       "99     3\n",
       "      ..\n",
       "59     1\n",
       "58     1\n",
       "56     1\n",
       "52     1\n",
       "120    1\n",
       "Name: sales, Length: 121, dtype: int64"
      ]
     },
     "execution_count": 86,
     "metadata": {},
     "output_type": "execute_result"
    }
   ],
   "source": [
    "from sklearn.preprocessing import LabelEncoder\n",
    "LE = LabelEncoder()\n",
    "df['sales']=LE.fit_transform(df['sales'])\n",
    "df['sales'].value_counts()"
   ]
  },
  {
   "cell_type": "code",
   "execution_count": 87,
   "id": "29553cd3",
   "metadata": {},
   "outputs": [],
   "source": [
    "LE = LabelEncoder()\n",
    "for column in df.columns:\n",
    "    df[column] = LE.fit_transform(df[column])"
   ]
  },
  {
   "cell_type": "code",
   "execution_count": 89,
   "id": "67064f84",
   "metadata": {},
   "outputs": [
    {
     "data": {
      "text/html": [
       "<div>\n",
       "<style scoped>\n",
       "    .dataframe tbody tr th:only-of-type {\n",
       "        vertical-align: middle;\n",
       "    }\n",
       "\n",
       "    .dataframe tbody tr th {\n",
       "        vertical-align: top;\n",
       "    }\n",
       "\n",
       "    .dataframe thead th {\n",
       "        text-align: right;\n",
       "    }\n",
       "</style>\n",
       "<table border=\"1\" class=\"dataframe\">\n",
       "  <thead>\n",
       "    <tr style=\"text-align: right;\">\n",
       "      <th></th>\n",
       "      <th>TV</th>\n",
       "      <th>radio</th>\n",
       "      <th>newspaper</th>\n",
       "      <th>sales</th>\n",
       "    </tr>\n",
       "  </thead>\n",
       "  <tbody>\n",
       "    <tr>\n",
       "      <th>0</th>\n",
       "      <td>153</td>\n",
       "      <td>131</td>\n",
       "      <td>159</td>\n",
       "      <td>106</td>\n",
       "    </tr>\n",
       "    <tr>\n",
       "      <th>1</th>\n",
       "      <td>32</td>\n",
       "      <td>136</td>\n",
       "      <td>124</td>\n",
       "      <td>31</td>\n",
       "    </tr>\n",
       "    <tr>\n",
       "      <th>2</th>\n",
       "      <td>12</td>\n",
       "      <td>156</td>\n",
       "      <td>160</td>\n",
       "      <td>23</td>\n",
       "    </tr>\n",
       "    <tr>\n",
       "      <th>3</th>\n",
       "      <td>98</td>\n",
       "      <td>142</td>\n",
       "      <td>149</td>\n",
       "      <td>89</td>\n",
       "    </tr>\n",
       "    <tr>\n",
       "      <th>4</th>\n",
       "      <td>112</td>\n",
       "      <td>41</td>\n",
       "      <td>148</td>\n",
       "      <td>54</td>\n",
       "    </tr>\n",
       "  </tbody>\n",
       "</table>\n",
       "</div>"
      ],
      "text/plain": [
       "    TV  radio  newspaper  sales\n",
       "0  153    131        159    106\n",
       "1   32    136        124     31\n",
       "2   12    156        160     23\n",
       "3   98    142        149     89\n",
       "4  112     41        148     54"
      ]
     },
     "execution_count": 89,
     "metadata": {},
     "output_type": "execute_result"
    }
   ],
   "source": [
    "df.head()"
   ]
  },
  {
   "cell_type": "code",
   "execution_count": 90,
   "id": "7a72ccb7",
   "metadata": {},
   "outputs": [
    {
     "data": {
      "text/plain": [
       "array([[1.06202323e+00, 1.00388046e+00, 1.56173231e+00, 1.50166059e+00],\n",
       "       [1.15893789e+00, 1.10532351e+00, 8.42749989e-01, 8.14287264e-01],\n",
       "       [1.52603890e+00, 1.51109573e+00, 1.58227466e+00, 1.06132170e+00],\n",
       "       [5.24954446e-02, 1.22705518e+00, 1.35630879e+00, 9.76712406e-01],\n",
       "       [3.09466152e-01, 8.22094507e-01, 1.33576644e+00, 1.04063257e-01],\n",
       "       [1.61781416e+00, 1.65311600e+00, 1.68498642e+00, 1.40099405e+00],\n",
       "       [1.04880759e+00, 5.98108245e-01, 1.43282905e-01, 4.12856303e-01],\n",
       "       [3.32960617e-01, 2.74302017e-01, 9.44434631e-01, 7.31839520e-02],\n",
       "       [1.63616921e+00, 1.45104144e+00, 1.66341695e+00, 1.70978710e+00],\n",
       "       [5.48081810e-01, 1.39017561e+00, 3.28164072e-01, 7.52528655e-01],\n",
       "       [9.93742437e-01, 1.12642367e+00, 1.02198201e-01, 1.18483892e+00],\n",
       "       [7.49987366e-01, 5.03157546e-02, 1.47853578e+00, 8.22315883e-01],\n",
       "       [1.41590860e+00, 7.80705741e-01, 1.52064760e+00, 1.09220101e+00],\n",
       "       [5.16511123e-01, 1.06555784e+00, 1.27311226e+00, 9.37804482e-01],\n",
       "       [5.84791911e-01, 6.18396855e-01, 9.24919397e-01, 1.03847102e+00],\n",
       "       [4.74661607e-01, 1.61253878e+00, 1.21251232e+00, 1.59429850e+00],\n",
       "       [9.57032336e-01, 9.02437406e-01, 1.80824053e+00, 2.27580475e-01],\n",
       "       [1.55760959e+00, 1.12561212e+00, 1.27413938e+00, 1.77957433e+00],\n",
       "       [9.01967184e-01, 1.93147574e-01, 5.74672296e-01, 5.67252827e-01],\n",
       "       [2.56970708e-03, 3.00271439e-02, 5.13045240e-01, 2.04729790e-01],\n",
       "       [8.41762619e-01, 2.93779084e-01, 1.23305468e+00, 8.84074492e-01],\n",
       "       [1.11708838e+00, 1.20757811e+00, 1.43282905e-01, 2.27580475e-01],\n",
       "       [1.56274900e+00, 4.77188125e-01, 1.02763116e+00, 1.61714918e+00],\n",
       "       [1.02531312e+00, 4.16322292e-01, 2.00287932e-02, 4.20884922e-01],\n",
       "       [1.01209749e+00, 6.80074232e-01, 5.74672296e-01, 9.37804482e-01],\n",
       "       [1.39241414e+00, 1.30902117e+00, 4.51418184e-01, 3.51097694e-01],\n",
       "       [2.09247576e-02, 4.35799359e-01, 8.82807575e-01, 3.28247009e-01],\n",
       "       [1.20886363e+00, 4.36610903e-01, 2.25452313e-01, 5.13522836e-01],\n",
       "       [1.28228383e+00, 2.32913251e-01, 2.25452313e-01, 1.00759171e+00],\n",
       "       [8.83612134e-01, 4.56899514e-01, 6.78411173e-01, 7.83407959e-01],\n",
       "       [1.68609494e+00, 3.34356305e-01, 7.81122933e-01, 1.37814337e+00],\n",
       "       [3.88025769e-01, 3.55456460e-01, 5.96241766e-01, 3.81976999e-01],\n",
       "       [5.34866173e-01, 1.53219588e+00, 1.44310022e-01, 9.68683787e-01],\n",
       "       [1.42912424e+00, 2.54013406e-01, 1.70450165e+00, 8.22315883e-01],\n",
       "       [5.71576274e-01, 1.55248449e+00, 1.25256991e+00, 9.99563092e-01],\n",
       "       [1.66773989e+00, 1.26844394e+00, 1.17040050e+00, 1.34942561e-01],\n",
       "       [1.44747929e+00, 1.42994129e+00, 1.45799343e+00, 1.84133294e+00],\n",
       "       [8.46902033e-01, 1.69369322e+00, 8.83834693e-01, 2.35609095e-01],\n",
       "       [1.17729294e+00, 1.72047419e-01, 4.11360598e-01, 8.76045873e-01],\n",
       "       [1.00695807e+00, 9.83591849e-01, 2.67564134e-01, 1.40902267e+00],\n",
       "       [5.66436860e-01, 5.11272991e-02, 2.26479430e-01, 6.06160750e-01],\n",
       "       [2.91111102e-01, 6.79262688e-01, 6.16784117e-01, 7.29677969e-01],\n",
       "       [1.70444999e+00, 2.93779084e-01, 1.62233225e+00, 1.28550545e+00],\n",
       "       [6.39857062e-01, 9.84403393e-01, 5.13558799e-04, 1.04063257e-01],\n",
       "       [1.37919850e+00, 1.11181587e-01, 8.01665285e-01, 1.21571822e+00],\n",
       "       [2.54401001e-01, 3.08386883e-02, 2.05937078e-01, 2.97367704e-01],\n",
       "       [6.44996477e-01, 9.03248950e-01, 4.72987654e-01, 7.52528655e-01],\n",
       "       [1.19050858e+00, 1.24734379e+00, 5.33587592e-01, 1.65605711e+00],\n",
       "       [9.88603023e-01, 4.97476735e-01, 1.06871586e+00, 2.66488399e-01],\n",
       "       [9.75387387e-01, 7.61228675e-01, 4.93530006e-01, 9.37804482e-01],\n",
       "       [5.48081810e-01, 1.34959839e+00, 3.90818246e-01, 5.36373522e-01],\n",
       "       [4.98156072e-01, 9.23537561e-01, 1.51962049e+00, 7.21649350e-01],\n",
       "       [7.86697467e-01, 1.26763240e+00, 6.57868821e-01, 1.62517780e+00],\n",
       "       [3.27821203e-01, 1.53138434e+00, 1.37685114e+00, 1.34726406e+00],\n",
       "       [1.37405908e+00, 3.95222137e-01, 7.18468760e-01, 1.25462615e+00],\n",
       "       [5.11371709e-01, 1.69369322e+00, 1.43847820e+00, 1.68693641e+00],\n",
       "       [1.69123436e+00, 3.14067694e-01, 6.98953525e-01, 1.64802849e+00],\n",
       "       [1.49410112e-01, 2.94590628e-01, 6.77384056e-01, 7.31839520e-02],\n",
       "       [6.94922214e-01, 1.71398184e+00, 5.55157062e-01, 1.71781572e+00],\n",
       "       [6.76567164e-01, 4.56087969e-01, 1.08823109e+00, 9.45833102e-01],\n",
       "       [1.08551769e+00, 1.47133005e+00, 3.07621721e-01, 1.27747683e+00],\n",
       "       [1.35570403e+00, 1.32849823e+00, 1.25359703e+00, 1.74869502e+00],\n",
       "       [1.15379848e+00, 5.17765346e-01, 6.21406147e-02, 4.82643532e-01],\n",
       "       [4.79801022e-01, 4.76376580e-01, 1.19094285e+00, 5.03332666e-02],\n",
       "       [2.22830314e-01, 1.34878684e+00, 1.03225319e-01, 8.84074492e-01],\n",
       "       [9.20322235e-01, 9.43826172e-01, 1.68395930e+00, 1.06132170e+00],\n",
       "       [1.28742325e+00, 7.06043654e-02, 1.58124754e+00, 9.99563092e-01],\n",
       "       [9.43449599e-02, 5.98919789e-01, 1.02660404e+00, 1.14253427e-02],\n",
       "       [1.11708838e+00, 2.73490473e-01, 9.64976983e-01, 1.00759171e+00],\n",
       "       [8.05052518e-01, 1.45022990e+00, 4.15982627e-02, 1.56341919e+00],\n",
       "       [5.29726759e-01, 5.37242412e-01, 6.16784117e-01, 9.14953797e-01],\n",
       "       [4.24735870e-01, 6.19208400e-01, 2.47021782e-01, 2.58459780e-01],\n",
       "       [1.34248840e+00, 6.38685466e-01, 4.92502888e-01, 1.12308031e+00],\n",
       "       [2.41185364e-01, 1.14671228e+00, 1.85394726e-01, 6.29011436e-01],\n",
       "       [7.13277265e-01, 7.06043654e-02, 8.21180519e-01, 6.98798664e-01],\n",
       "       [1.54439395e+00, 1.40965267e+00, 1.76715583e+00, 1.15395962e+00],\n",
       "       [1.32413335e+00, 1.51190727e+00, 3.48706424e-01, 1.46275266e+00],\n",
       "       [3.14605567e-01, 3.54644916e-01, 7.80095816e-01, 1.12091876e-01],\n",
       "       [1.70958941e+00, 4.96665191e-01, 1.06768874e+00, 1.67890779e+00],\n",
       "       [3.69670718e-01, 1.04526923e+00, 2.04909961e-01, 6.29011436e-01],\n",
       "       [7.55126780e-01, 1.72047419e-01, 2.45994665e-01, 4.12856303e-01],\n",
       "       [1.17215353e+00, 1.26844394e+00, 5.14072358e-01, 2.89339085e-01],\n",
       "       [8.10191932e-01, 2.13436185e-01, 2.88106486e-01, 5.67252827e-01],\n",
       "       [9.38677286e-01, 1.47051851e+00, 4.52445302e-01, 1.94539619e-02],\n",
       "       [7.31632315e-01, 1.36907545e+00, 3.29191190e-01, 1.43990198e+00],\n",
       "       [4.37951506e-01, 3.14879239e-01, 1.50010525e+00, 3.59126313e-01],\n",
       "       [7.73481831e-01, 2.73490473e-01, 6.97926408e-01, 3.51097694e-01],\n",
       "       [4.06380819e-01, 1.18647796e+00, 1.45902055e+00, 5.44402141e-01],\n",
       "       [6.63351527e-01, 9.08929761e-02, 1.64390172e+00, 1.04063257e-01],\n",
       "       [4.24735870e-01, 1.63282739e+00, 1.17142762e+00, 6.37040055e-01],\n",
       "       [1.86120213e-01, 1.22786672e+00, 1.08823109e+00, 5.98132131e-01],\n",
       "       [1.30577830e+00, 1.53219588e+00, 3.08648838e-01, 1.37011475e+00],\n",
       "       [8.23407568e-01, 6.99551298e-01, 1.39739349e+00, 1.10022962e+00],\n",
       "       [1.30063888e+00, 8.82148795e-01, 1.62335936e+00, 1.53253989e+00],\n",
       "       [4.43090920e-01, 6.39497011e-01, 9.85519335e-01, 5.05494217e-01],\n",
       "       [8.92055457e-02, 5.57531023e-01, 1.21251232e+00, 6.67919360e-01],\n",
       "       [4.93016658e-01, 1.30902117e+00, 1.33473932e+00, 4.43735608e-01],\n",
       "       [3.46176254e-01, 1.32281742e-01, 2.66537017e-01, 4.20884922e-01],\n",
       "       [1.64938484e+00, 1.30820962e+00, 1.15088527e+00, 1.84133294e+00],\n",
       "       [1.67765162e-01, 1.26763240e+00, 9.04377045e-01, 7.60557274e-01],\n",
       "       [9.33537871e-01, 1.24815533e+00, 1.04817351e+00, 4.43735608e-01],\n",
       "       [1.72280505e+00, 8.61860184e-01, 1.78769818e+00, 1.71781572e+00],\n",
       "       [1.52089949e+00, 8.62671729e-01, 3.07621721e-01, 2.66488399e-01],\n",
       "       [3.82886355e-01, 3.75745071e-01, 6.15757000e-01, 2.35609095e-01],\n",
       "       [1.13544343e+00, 7.19839909e-01, 1.43745108e+00, 1.28550545e+00],\n",
       "       [1.31055061e-01, 1.55167295e+00, 1.39739349e+00, 1.06935032e+00],\n",
       "       [1.39755355e+00, 8.01805897e-01, 1.23767671e-01, 1.40099405e+00],\n",
       "       [6.26641426e-01, 1.63363894e+00, 1.84367609e-01, 1.15395962e+00],\n",
       "       [1.58110406e+00, 1.61335033e+00, 6.11134971e-02, 1.67890779e+00],\n",
       "       [1.33734898e+00, 2.12624641e-01, 1.39636637e+00, 1.19286754e+00],\n",
       "       [9.70247973e-01, 1.00469200e+00, 1.29468173e+00, 1.14253427e-02],\n",
       "       [1.22721868e+00, 1.02416907e+00, 1.84367609e-01, 1.47078128e+00],\n",
       "       [2.72756051e-01, 5.38053957e-01, 1.56070519e+00, 8.12125713e-02],\n",
       "       [6.58212113e-01, 1.72858964e-01, 1.00606169e+00, 5.13522836e-01],\n",
       "       [7.36771729e-01, 1.57196156e+00, 3.70275894e-01, 2.04729790e-01],\n",
       "       [8.28546982e-01, 7.60417131e-01, 1.19196997e+00, 1.96701171e-01],\n",
       "       [1.12700010e-01, 6.19208400e-01, 6.11134971e-02, 3.20218389e-01],\n",
       "       [7.55126780e-01, 1.59306172e+00, 7.59553464e-01, 1.03044240e+00],\n",
       "       [2.59540415e-01, 9.43014627e-01, 1.72607112e+00, 5.13522836e-01],\n",
       "       [1.45261870e+00, 4.56899514e-01, 2.45994665e-01, 1.52451127e+00],\n",
       "       [3.92798082e-02, 1.92336030e-01, 9.45461749e-01, 4.20884922e-01],\n",
       "       [1.47097375e+00, 7.14159098e-02, 1.08925821e+00, 1.43187336e+00],\n",
       "       [9.51892922e-01, 1.41046422e+00, 7.39011112e-01, 4.74614913e-01],\n",
       "       [2.77895465e-01, 7.40128520e-01, 9.03349927e-01, 3.59126313e-01],\n",
       "       [1.04366817e+00, 5.77819634e-01, 1.66444407e+00, 1.16198823e+00],\n",
       "       [6.81706578e-01, 7.40940064e-01, 4.05711451e-02, 7.52528655e-01],\n",
       "       [1.67287931e+00, 1.06474629e+00, 1.13034292e+00, 1.52451127e+00],\n",
       "       [7.18416679e-01, 1.65392755e+00, 1.10877345e+00, 1.12308031e+00],\n",
       "       [8.96827770e-01, 1.67340461e+00, 1.54016284e+00, 1.81045363e+00],\n",
       "       [1.03045254e+00, 7.20651454e-01, 7.60580581e-01, 9.37804482e-01],\n",
       "       [1.74629951e+00, 1.12561212e+00, 1.14985815e+00, 1.77154571e+00],\n",
       "       [1.41076919e+00, 1.36988700e+00, 7.40038229e-01, 1.65821866e-01],\n",
       "       [1.65452426e+00, 2.53201862e-01, 1.60178989e+00, 1.58626988e+00],\n",
       "       [8.78472720e-01, 6.99551298e-01, 8.42749989e-01, 1.13110893e+00],\n",
       "       [1.26906820e+00, 1.04445768e+00, 1.47956290e+00, 6.90770045e-01],\n",
       "       [1.12222779e+00, 1.59225017e+00, 1.17040050e+00, 4.74614913e-01],\n",
       "       [1.36084345e+00, 1.08503490e+00, 1.08823109e+00, 9.99563092e-01],\n",
       "       [1.46583434e+00, 4.15510748e-01, 1.41793584e+00, 1.31638476e+00],\n",
       "       [1.19564799e+00, 1.51758808e-01, 3.89791128e-01, 9.68683787e-01],\n",
       "       [3.46176254e-01, 1.45022990e+00, 1.64287460e+00, 1.28550545e+00],\n",
       "       [8.65257083e-01, 3.96033682e-01, 8.41722871e-01, 6.59890741e-01],\n",
       "       [4.56306557e-01, 8.00994352e-01, 1.70552877e+00, 1.06935032e+00],\n",
       "       [9.15182821e-01, 6.58974077e-01, 5.75699414e-01, 1.22374684e+00],\n",
       "       [4.61445971e-01, 1.14671228e+00, 3.49733542e-01, 8.14287264e-01],\n",
       "       [5.53221224e-01, 5.58342568e-01, 6.37326469e-01, 5.36373522e-01],\n",
       "       [5.76348588e-02, 1.49161866e+00, 1.12931580e+00, 8.45166569e-01],\n",
       "       [1.20886363e+00, 1.08584645e+00, 1.14985815e+00, 7.31839520e-02],\n",
       "       [1.24557373e+00, 1.67340461e+00, 8.22207637e-01, 1.84133294e+00],\n",
       "       [1.25071315e+00, 1.16618935e+00, 9.23892279e-01, 6.59890741e-01],\n",
       "       [1.14058284e+00, 1.31470198e-01, 3.69248776e-01, 8.76045873e-01],\n",
       "       [1.53925454e+00, 6.59785621e-01, 5.34614710e-01, 5.75281446e-01],\n",
       "       [2.96250516e-01, 9.84403393e-01, 9.86546453e-01, 4.74614913e-01],\n",
       "       [4.93016658e-01, 1.05500776e-02, 7.80095816e-01, 6.06160750e-01],\n",
       "       [2.17690900e-01, 1.14590073e+00, 5.55157062e-01, 1.03847102e+00],\n",
       "       [3.64531304e-01, 1.11993131e-01, 1.04714639e+00, 4.51764227e-01],\n",
       "       [1.72794446e+00, 7.81517286e-01, 1.37582402e+00, 1.74066640e+00],\n",
       "       [6.08286376e-01, 1.38936406e+00, 1.10980056e+00, 3.90005618e-01],\n",
       "       [3.41403940e-02, 1.57277310e+00, 8.16558490e-02, 8.76045873e-01],\n",
       "       [1.59945911e+00, 9.43014627e-01, 8.63292341e-01, 1.37011475e+00],\n",
       "       [2.04475263e-01, 3.14879239e-01, 3.90818246e-01, 1.04063257e-01],\n",
       "       [2.36045950e-01, 3.35167849e-01, 1.64852374e-01, 1.42971181e-01],\n",
       "       [7.00061628e-01, 8.41571574e-01, 1.00708880e+00, 4.23046474e-02],\n",
       "       [4.01241405e-01, 3.35167849e-01, 6.11134971e-02, 2.97367704e-01],\n",
       "       [1.07560596e-01, 9.22726017e-01, 1.25256991e+00, 8.84074492e-01],\n",
       "       [3.51315668e-01, 5.78631178e-01, 1.41690873e+00, 3.81976999e-01],\n",
       "       [1.09873333e+00, 1.32930978e+00, 1.74661348e+00, 3.81976999e-01],\n",
       "       [1.50768385e+00, 9.63303238e-01, 2.87079369e-01, 1.30835614e+00],\n",
       "       [6.21502012e-01, 1.18728950e+00, 4.71960536e-01, 3.20218389e-01],\n",
       "       [7.68342416e-01, 9.73853316e-03, 1.31522408e+00, 7.29677969e-01],\n",
       "       [1.59431969e+00, 8.42383118e-01, 1.29365461e+00, 3.28247009e-01],\n",
       "       [1.10387274e+00, 7.81517286e-01, 5.54129944e-01, 1.24659753e+00],\n",
       "       [1.25915647e-01, 1.52570353e-01, 9.66004101e-01, 1.73850485e-01],\n",
       "       [1.43426365e+00, 2.33724796e-01, 6.56841704e-01, 1.33923544e+00],\n",
       "       [1.80980799e-01, 1.10613506e+00, 8.62265223e-01, 4.43735608e-01],\n",
       "       [9.33537871e-01, 1.32930978e+00, 8.21180519e-01, 5.05494217e-01],\n",
       "       [1.50254444e+00, 1.65311600e+00, 7.19495877e-01, 1.93397085e+00],\n",
       "       [1.26392878e+00, 5.16953802e-01, 4.10333480e-01, 1.25462615e+00],\n",
       "       [1.99335849e-01, 1.02498061e+00, 4.31902950e-01, 4.43735608e-01],\n",
       "       [1.48418939e+00, 1.43075283e+00, 1.22740553e-01, 4.12856303e-01],\n",
       "       [1.44270697e-01, 8.82960340e-01, 6.36299352e-01, 1.96701171e-01],\n",
       "       [7.08504952e-02, 1.39017561e+00, 1.21148521e+00, 7.83407959e-01],\n",
       "       [8.60117669e-01, 1.16700089e+00, 8.26829666e-02, 3.20218389e-01],\n",
       "       [1.06716264e+00, 1.14671228e+00, 1.23767671e-01, 1.15395962e+00],\n",
       "       [1.63102979e+00, 1.36907545e+00, 1.60281701e+00, 1.90309155e+00],\n",
       "       [1.31899393e+00, 9.17045206e-02, 1.44310022e-01, 8.53195188e-01],\n",
       "       [6.03146961e-01, 1.49080712e+00, 4.30875832e-01, 1.62517780e+00],\n",
       "       [7.59899093e-02, 1.45104144e+00, 2.10559108e-02, 8.45166569e-01],\n",
       "       [4.19596456e-01, 3.74933527e-01, 5.95214648e-01, 7.91436578e-01],\n",
       "       [1.61267474e+00, 6.59785621e-01, 1.49907813e+00, 5.13522836e-01],\n",
       "       [1.48932880e+00, 7.00362843e-01, 1.63825257e-01, 1.49363197e+00],\n",
       "       [1.21400304e+00, 1.20676657e+00, 1.35528167e+00, 6.90770045e-01],\n",
       "       [7.91836881e-01, 8.22094507e-01, 1.31419697e+00, 9.06925178e-01],\n",
       "       [1.52603890e+00, 1.26844394e+00, 2.26479430e-01, 1.55539058e+00],\n",
       "       [1.62625748e-01, 1.28792101e+00, 1.51962049e+00, 1.13110893e+00],\n",
       "       [1.57853435e-02, 8.21282963e-01, 1.31419697e+00, 7.91436578e-01],\n",
       "       [1.23235809e+00, 1.28873255e+00, 8.00638167e-01, 1.33923544e+00],\n",
       "       [5.89931325e-01, 1.22786672e+00, 1.23202756e+00, 9.37804482e-01],\n",
       "       [2.91111102e-01, 9.43826172e-01, 1.29365461e+00, 1.34942561e-01],\n",
       "       [1.57596464e+00, 1.28792101e+00, 1.54118996e+00, 1.87221224e+00],\n",
       "       [1.08037828e+00, 9.64114782e-01, 1.14985815e+00, 1.14253427e-02]])"
      ]
     },
     "execution_count": 90,
     "metadata": {},
     "output_type": "execute_result"
    }
   ],
   "source": [
    "from scipy.stats import zscore\n",
    "z=np.abs(zscore(df))\n",
    "z"
   ]
  },
  {
   "cell_type": "code",
   "execution_count": 91,
   "id": "0c7c2fa0",
   "metadata": {},
   "outputs": [
    {
     "name": "stdout",
     "output_type": "stream",
     "text": [
      "(array([], dtype=int64), array([], dtype=int64))\n"
     ]
    }
   ],
   "source": [
    "threshold=3\n",
    "print(np.where(z>3))"
   ]
  },
  {
   "cell_type": "code",
   "execution_count": 92,
   "id": "2f91198a",
   "metadata": {},
   "outputs": [],
   "source": [
    "# Splitting the dataset\n",
    "X = df.drop('sales', axis=1)\n",
    "Y = df['sales']"
   ]
  },
  {
   "cell_type": "code",
   "execution_count": 93,
   "id": "94a58c33",
   "metadata": {},
   "outputs": [
    {
     "data": {
      "text/html": [
       "<div>\n",
       "<style scoped>\n",
       "    .dataframe tbody tr th:only-of-type {\n",
       "        vertical-align: middle;\n",
       "    }\n",
       "\n",
       "    .dataframe tbody tr th {\n",
       "        vertical-align: top;\n",
       "    }\n",
       "\n",
       "    .dataframe thead th {\n",
       "        text-align: right;\n",
       "    }\n",
       "</style>\n",
       "<table border=\"1\" class=\"dataframe\">\n",
       "  <thead>\n",
       "    <tr style=\"text-align: right;\">\n",
       "      <th></th>\n",
       "      <th>TV</th>\n",
       "      <th>radio</th>\n",
       "      <th>newspaper</th>\n",
       "    </tr>\n",
       "  </thead>\n",
       "  <tbody>\n",
       "    <tr>\n",
       "      <th>0</th>\n",
       "      <td>1.062023</td>\n",
       "      <td>1.003880</td>\n",
       "      <td>1.561732</td>\n",
       "    </tr>\n",
       "    <tr>\n",
       "      <th>1</th>\n",
       "      <td>-1.158938</td>\n",
       "      <td>1.105324</td>\n",
       "      <td>0.842750</td>\n",
       "    </tr>\n",
       "    <tr>\n",
       "      <th>2</th>\n",
       "      <td>-1.526039</td>\n",
       "      <td>1.511096</td>\n",
       "      <td>1.582275</td>\n",
       "    </tr>\n",
       "    <tr>\n",
       "      <th>3</th>\n",
       "      <td>0.052495</td>\n",
       "      <td>1.227055</td>\n",
       "      <td>1.356309</td>\n",
       "    </tr>\n",
       "    <tr>\n",
       "      <th>4</th>\n",
       "      <td>0.309466</td>\n",
       "      <td>-0.822095</td>\n",
       "      <td>1.335766</td>\n",
       "    </tr>\n",
       "    <tr>\n",
       "      <th>...</th>\n",
       "      <td>...</td>\n",
       "      <td>...</td>\n",
       "      <td>...</td>\n",
       "    </tr>\n",
       "    <tr>\n",
       "      <th>195</th>\n",
       "      <td>-1.232358</td>\n",
       "      <td>-1.288733</td>\n",
       "      <td>-0.800638</td>\n",
       "    </tr>\n",
       "    <tr>\n",
       "      <th>196</th>\n",
       "      <td>-0.589931</td>\n",
       "      <td>-1.227867</td>\n",
       "      <td>-1.232028</td>\n",
       "    </tr>\n",
       "    <tr>\n",
       "      <th>197</th>\n",
       "      <td>0.291111</td>\n",
       "      <td>-0.943826</td>\n",
       "      <td>-1.293655</td>\n",
       "    </tr>\n",
       "    <tr>\n",
       "      <th>198</th>\n",
       "      <td>1.575965</td>\n",
       "      <td>1.287921</td>\n",
       "      <td>1.541190</td>\n",
       "    </tr>\n",
       "    <tr>\n",
       "      <th>199</th>\n",
       "      <td>1.080378</td>\n",
       "      <td>-0.964115</td>\n",
       "      <td>-1.149858</td>\n",
       "    </tr>\n",
       "  </tbody>\n",
       "</table>\n",
       "<p>200 rows × 3 columns</p>\n",
       "</div>"
      ],
      "text/plain": [
       "           TV     radio  newspaper\n",
       "0    1.062023  1.003880   1.561732\n",
       "1   -1.158938  1.105324   0.842750\n",
       "2   -1.526039  1.511096   1.582275\n",
       "3    0.052495  1.227055   1.356309\n",
       "4    0.309466 -0.822095   1.335766\n",
       "..        ...       ...        ...\n",
       "195 -1.232358 -1.288733  -0.800638\n",
       "196 -0.589931 -1.227867  -1.232028\n",
       "197  0.291111 -0.943826  -1.293655\n",
       "198  1.575965  1.287921   1.541190\n",
       "199  1.080378 -0.964115  -1.149858\n",
       "\n",
       "[200 rows x 3 columns]"
      ]
     },
     "execution_count": 93,
     "metadata": {},
     "output_type": "execute_result"
    }
   ],
   "source": [
    "scaler = StandardScaler()\n",
    "X = pd.DataFrame(scaler.fit_transform(X), columns=X.columns)\n",
    "X "
   ]
  },
  {
   "cell_type": "code",
   "execution_count": 94,
   "id": "64723c73",
   "metadata": {},
   "outputs": [
    {
     "data": {
      "text/plain": [
       "0      106\n",
       "1       31\n",
       "2       23\n",
       "3       89\n",
       "4       54\n",
       "      ... \n",
       "195     14\n",
       "196     27\n",
       "197     53\n",
       "198    118\n",
       "199     57\n",
       "Name: sales, Length: 200, dtype: int64"
      ]
     },
     "execution_count": 94,
     "metadata": {},
     "output_type": "execute_result"
    }
   ],
   "source": [
    "Y"
   ]
  },
  {
   "cell_type": "code",
   "execution_count": 95,
   "id": "fe0b9991",
   "metadata": {},
   "outputs": [],
   "source": [
    "# Creating Training and Testing Dataset\n",
    "X_train, X_test, Y_train, Y_test = train_test_split(X, Y, test_size=0.2, random_state=21)"
   ]
  },
  {
   "cell_type": "code",
   "execution_count": 96,
   "id": "d72e19a3",
   "metadata": {},
   "outputs": [
    {
     "data": {
      "text/plain": [
       "(160, 3)"
      ]
     },
     "execution_count": 96,
     "metadata": {},
     "output_type": "execute_result"
    }
   ],
   "source": [
    "X_train.shape"
   ]
  },
  {
   "cell_type": "code",
   "execution_count": 97,
   "id": "65acc476",
   "metadata": {},
   "outputs": [
    {
     "data": {
      "text/plain": [
       "(160,)"
      ]
     },
     "execution_count": 97,
     "metadata": {},
     "output_type": "execute_result"
    }
   ],
   "source": [
    "Y_train.shape"
   ]
  },
  {
   "cell_type": "code",
   "execution_count": 98,
   "id": "f3030a72",
   "metadata": {},
   "outputs": [
    {
     "data": {
      "text/plain": [
       "(40, 3)"
      ]
     },
     "execution_count": 98,
     "metadata": {},
     "output_type": "execute_result"
    }
   ],
   "source": [
    "X_test.shape"
   ]
  },
  {
   "cell_type": "code",
   "execution_count": 99,
   "id": "418db460",
   "metadata": {},
   "outputs": [
    {
     "data": {
      "text/plain": [
       "(40,)"
      ]
     },
     "execution_count": 99,
     "metadata": {},
     "output_type": "execute_result"
    }
   ],
   "source": [
    "Y_test.shape"
   ]
  },
  {
   "cell_type": "code",
   "execution_count": 100,
   "id": "41994877",
   "metadata": {},
   "outputs": [],
   "source": [
    "def reg(model, X, Y):\n",
    "    X_train, X_test, Y_train, Y_test = train_test_split(X, Y, test_size=0.2, random_state=21)\n",
    "    \n",
    "    # Training the model\n",
    "    model.fit(X_train, Y_train)\n",
    "    \n",
    "    # Predicting Y_test\n",
    "    pred = model.predict(X_test)\n",
    "    \n",
    "    # RMSE - a lower RMSE score is better than a higher one\n",
    "    rmse = mean_squared_error(Y_test, pred, squared=False)\n",
    "    print(\"RMSE Score is:\", rmse)\n",
    "    \n",
    "    # R2 score\n",
    "    r2 = r2_score(Y_test, pred, multioutput='variance_weighted')*100\n",
    "    print(\"R2 Score is:\", r2)\n",
    "    \n",
    "    # Cross Validation Score\n",
    "    cv_score = (cross_val_score(model, X, Y, cv=5).mean())*100\n",
    "    print(\"Cross Validation Score:\", cv_score)\n",
    "    "
   ]
  },
  {
   "cell_type": "code",
   "execution_count": 101,
   "id": "4561180c",
   "metadata": {},
   "outputs": [
    {
     "name": "stdout",
     "output_type": "stream",
     "text": [
      "RMSE Score is: 9.911516258280095\n",
      "R2 Score is: 92.67193552478948\n",
      "Cross Validation Score: 89.84549696886566\n"
     ]
    }
   ],
   "source": [
    "# Linear Regression Model\n",
    "from sklearn.linear_model import LinearRegression\n",
    "model=LinearRegression()\n",
    "reg(model, X, Y)"
   ]
  },
  {
   "cell_type": "code",
   "execution_count": 161,
   "id": "f3009ecd",
   "metadata": {},
   "outputs": [
    {
     "name": "stdout",
     "output_type": "stream",
     "text": [
      "RMSE Score is: 7.436396977031283\n",
      "R2 Score is: 95.87490250214576\n",
      "Cross Validation Score: 5.500000000000001\n"
     ]
    }
   ],
   "source": [
    "# K Neighbors Regressor\n",
    "from sklearn.neighbors import KNeighborsRegressor\n",
    "KNeighborsRegressor(n_neighbors=2, algorithm='kd_tree')\n",
    "reg(model, X, Y)"
   ]
  },
  {
   "cell_type": "code",
   "execution_count": 104,
   "id": "46ce8cd2",
   "metadata": {},
   "outputs": [
    {
     "name": "stdout",
     "output_type": "stream",
     "text": [
      "RMSE Score is: 15.639693091617879\n",
      "R2 Score is: 81.75408954836989\n",
      "Cross Validation Score: 68.7258962909652\n"
     ]
    }
   ],
   "source": [
    "# Decision Tree Regressor\n",
    "from sklearn.tree import DecisionTreeRegressor\n",
    "model=DecisionTreeRegressor(criterion=\"poisson\", random_state=111)\n",
    "reg(model, X, Y)"
   ]
  },
  {
   "cell_type": "code",
   "execution_count": 42,
   "id": "374647d0",
   "metadata": {},
   "outputs": [
    {
     "name": "stdout",
     "output_type": "stream",
     "text": [
      "RMSE Score is: 7.122785171609445\n",
      "R2 Score is: 96.21549765928508\n",
      "Cross Validation Score: 96.27332247436057\n"
     ]
    }
   ],
   "source": [
    "# Ada Boost Regressor\n",
    "from sklearn.ensemble import AdaBoostRegressor\n",
    "model=AdaBoostRegressor(n_estimators=300, learning_rate=1.05, random_state=42)\n",
    "reg(model, X, Y)"
   ]
  },
  {
   "cell_type": "code",
   "execution_count": null,
   "id": "f4efd75a",
   "metadata": {},
   "outputs": [],
   "source": [
    "from sklearn.metrics import classification_report, confusion_matrix"
   ]
  },
  {
   "cell_type": "code",
   "execution_count": 105,
   "id": "da8df5d1",
   "metadata": {},
   "outputs": [
    {
     "name": "stdout",
     "output_type": "stream",
     "text": [
      "Test Accuracy: 5.0%\n"
     ]
    }
   ],
   "source": [
    "rf = RandomForestClassifier(n_estimators=100, random_state=42)\n",
    "rf.fit(X_train, Y_train)\n",
    "print(\"Test Accuracy: {}%\".format(round(rf.score(X_test, Y_test)*100, 2)))"
   ]
  },
  {
   "cell_type": "code",
   "execution_count": 106,
   "id": "17b32fa8",
   "metadata": {},
   "outputs": [
    {
     "name": "stdout",
     "output_type": "stream",
     "text": [
      "Training accuracy : 0.14375\n",
      "Testing accuracy : 0.025\n",
      "              precision    recall  f1-score   support\n",
      "\n",
      "           3       0.00      0.00      0.00         1\n",
      "           5       0.00      0.00      0.00         1\n",
      "           7       0.00      0.00      0.00         1\n",
      "          12       0.00      0.00      0.00         0\n",
      "          13       0.00      0.00      0.00         1\n",
      "          16       0.00      0.00      0.00         1\n",
      "          20       0.00      0.00      0.00         1\n",
      "          23       0.00      0.00      0.00         1\n",
      "          24       0.00      0.00      0.00         1\n",
      "          25       0.00      0.00      0.00         1\n",
      "          26       0.00      0.00      0.00         1\n",
      "          27       0.00      0.00      0.00         2\n",
      "          28       0.00      0.00      0.00         1\n",
      "          29       0.00      0.00      0.00         0\n",
      "          30       0.00      0.00      0.00         1\n",
      "          31       0.00      0.00      0.00         1\n",
      "          33       0.00      0.00      0.00         1\n",
      "          35       0.00      0.00      0.00         0\n",
      "          36       0.00      0.00      0.00         0\n",
      "          40       0.00      0.00      0.00         1\n",
      "          43       0.00      0.00      0.00         0\n",
      "          44       0.00      0.00      0.00         1\n",
      "          50       0.00      0.00      0.00         1\n",
      "          52       0.00      0.00      0.00         1\n",
      "          54       0.00      0.00      0.00         0\n",
      "          64       0.00      0.00      0.00         1\n",
      "          66       0.00      0.00      0.00         1\n",
      "          67       0.00      0.00      0.00         1\n",
      "          74       0.00      0.00      0.00         0\n",
      "          75       0.00      0.00      0.00         1\n",
      "          77       0.00      0.00      0.00         2\n",
      "          81       0.00      0.00      0.00         1\n",
      "          83       0.00      0.00      0.00         1\n",
      "          84       0.00      0.00      0.00         0\n",
      "          86       0.00      0.00      0.00         1\n",
      "          91       0.00      0.00      0.00         0\n",
      "          92       0.00      0.00      0.00         1\n",
      "          93       0.00      0.00      0.00         1\n",
      "          95       0.00      0.00      0.00         1\n",
      "          98       0.00      0.00      0.00         1\n",
      "          99       0.00      0.00      0.00         1\n",
      "         107       0.00      0.00      0.00         0\n",
      "         110       0.00      0.00      0.00         1\n",
      "         113       0.00      0.00      0.00         1\n",
      "         115       0.00      0.00      0.00         1\n",
      "         117       0.20      1.00      0.33         1\n",
      "         118       0.00      0.00      0.00         1\n",
      "         119       0.00      0.00      0.00         1\n",
      "\n",
      "    accuracy                           0.03        40\n",
      "   macro avg       0.00      0.02      0.01        40\n",
      "weighted avg       0.01      0.03      0.01        40\n",
      "\n",
      "[[0 0 0 ... 0 0 0]\n",
      " [0 0 0 ... 0 0 0]\n",
      " [0 0 0 ... 0 0 0]\n",
      " ...\n",
      " [0 0 0 ... 1 0 0]\n",
      " [0 0 0 ... 1 0 0]\n",
      " [0 0 0 ... 1 0 0]]\n"
     ]
    }
   ],
   "source": [
    "from sklearn.metrics import classification_report, confusion_matrix\n",
    "lr = LogisticRegression()\n",
    "\n",
    "# feeding the training set into the model\n",
    "lr.fit(X_train, Y_train)\n",
    "\n",
    "# predicting the results for the test set\n",
    "y_pred = lr.predict(X_test)\n",
    "\n",
    "# calculating the training and testing accuracies\n",
    "print(\"Training accuracy :\", lr.score(X_train, Y_train))\n",
    "print(\"Testing accuracy :\", lr.score(X_test, Y_test))\n",
    "\n",
    "# classification report\n",
    "print(classification_report(Y_test, y_pred))\n",
    "\n",
    "# confusion matrix\n",
    "print(confusion_matrix(Y_test, y_pred))"
   ]
  },
  {
   "cell_type": "code",
   "execution_count": 107,
   "id": "b18f1917",
   "metadata": {},
   "outputs": [
    {
     "name": "stdout",
     "output_type": "stream",
     "text": [
      "Training accuracy : 1.0\n",
      "Testing accuracy : 0.05\n"
     ]
    }
   ],
   "source": [
    "from sklearn.tree import DecisionTreeClassifier\n",
    "\n",
    "\n",
    "model = DecisionTreeClassifier()\n",
    "model.fit(X_train, Y_train)\n",
    "y_pred = model.predict(X_test)\n",
    "\n",
    "# calculating the training and testing accuracies\n",
    "print(\"Training accuracy :\", model.score(X_train, Y_train))\n",
    "print(\"Testing accuracy :\", model.score(X_test, Y_test))"
   ]
  },
  {
   "cell_type": "code",
   "execution_count": 108,
   "id": "c95f52be",
   "metadata": {},
   "outputs": [
    {
     "name": "stdout",
     "output_type": "stream",
     "text": [
      "              precision    recall  f1-score   support\n",
      "\n",
      "           3       0.00      0.00      0.00         1\n",
      "           5       0.00      0.00      0.00         1\n",
      "           7       0.00      0.00      0.00         1\n",
      "           8       0.00      0.00      0.00         0\n",
      "           9       0.00      0.00      0.00         0\n",
      "          10       0.00      0.00      0.00         0\n",
      "          12       0.00      0.00      0.00         0\n",
      "          13       0.00      0.00      0.00         1\n",
      "          16       0.00      0.00      0.00         1\n",
      "          20       0.00      0.00      0.00         1\n",
      "          21       0.00      0.00      0.00         0\n",
      "          23       0.00      0.00      0.00         1\n",
      "          24       0.00      0.00      0.00         1\n",
      "          25       0.00      0.00      0.00         1\n",
      "          26       0.00      0.00      0.00         1\n",
      "          27       1.00      0.50      0.67         2\n",
      "          28       0.00      0.00      0.00         1\n",
      "          29       0.00      0.00      0.00         0\n",
      "          30       1.00      1.00      1.00         1\n",
      "          31       0.00      0.00      0.00         1\n",
      "          33       0.00      0.00      0.00         1\n",
      "          36       0.00      0.00      0.00         0\n",
      "          40       0.00      0.00      0.00         1\n",
      "          42       0.00      0.00      0.00         0\n",
      "          44       0.00      0.00      0.00         1\n",
      "          48       0.00      0.00      0.00         0\n",
      "          50       0.00      0.00      0.00         1\n",
      "          52       0.00      0.00      0.00         1\n",
      "          57       0.00      0.00      0.00         0\n",
      "          59       0.00      0.00      0.00         0\n",
      "          64       0.00      0.00      0.00         1\n",
      "          66       0.00      0.00      0.00         1\n",
      "          67       0.00      0.00      0.00         1\n",
      "          69       0.00      0.00      0.00         0\n",
      "          71       0.00      0.00      0.00         0\n",
      "          72       0.00      0.00      0.00         0\n",
      "          75       0.00      0.00      0.00         1\n",
      "          77       0.00      0.00      0.00         2\n",
      "          78       0.00      0.00      0.00         0\n",
      "          81       0.00      0.00      0.00         1\n",
      "          82       0.00      0.00      0.00         0\n",
      "          83       0.00      0.00      0.00         1\n",
      "          84       0.00      0.00      0.00         0\n",
      "          86       0.00      0.00      0.00         1\n",
      "          90       0.00      0.00      0.00         0\n",
      "          92       0.00      0.00      0.00         1\n",
      "          93       0.00      0.00      0.00         1\n",
      "          95       0.00      0.00      0.00         1\n",
      "          97       0.00      0.00      0.00         0\n",
      "          98       0.00      0.00      0.00         1\n",
      "          99       0.00      0.00      0.00         1\n",
      "         106       0.00      0.00      0.00         0\n",
      "         107       0.00      0.00      0.00         0\n",
      "         108       0.00      0.00      0.00         0\n",
      "         110       0.00      0.00      0.00         1\n",
      "         111       0.00      0.00      0.00         0\n",
      "         113       0.00      0.00      0.00         1\n",
      "         114       0.00      0.00      0.00         0\n",
      "         115       0.00      0.00      0.00         1\n",
      "         117       0.00      0.00      0.00         1\n",
      "         118       0.00      0.00      0.00         1\n",
      "         119       0.00      0.00      0.00         1\n",
      "\n",
      "    accuracy                           0.05        40\n",
      "   macro avg       0.03      0.02      0.03        40\n",
      "weighted avg       0.07      0.05      0.06        40\n",
      "\n",
      "[[0 0 0 ... 0 0 0]\n",
      " [0 0 0 ... 0 0 0]\n",
      " [0 0 0 ... 0 0 0]\n",
      " ...\n",
      " [0 0 0 ... 0 0 0]\n",
      " [0 0 0 ... 1 0 0]\n",
      " [0 0 0 ... 1 0 0]]\n"
     ]
    }
   ],
   "source": [
    "# classification report\n",
    "print(classification_report(Y_test, y_pred))\n",
    "\n",
    "# confusion matrix\n",
    "print(confusion_matrix(Y_test, y_pred))"
   ]
  },
  {
   "cell_type": "code",
   "execution_count": 117,
   "id": "efe4b83d",
   "metadata": {},
   "outputs": [
    {
     "name": "stdout",
     "output_type": "stream",
     "text": [
      "Training accuracy : 1.0\n",
      "Testing accuracy : 0.05\n"
     ]
    }
   ],
   "source": [
    "# Random Forest Classifier\n",
    "from sklearn.ensemble import RandomForestClassifier\n",
    "\n",
    "\n",
    "model = RandomForestClassifier(n_estimators = 200)\n",
    "model.fit(X_train, Y_train)\n",
    "y_pred = model.predict(X_test)\n",
    "\n",
    "# calculating the training and testing accuracies\n",
    "print(\"Training accuracy :\", model.score(X_train, Y_train))\n",
    "print(\"Testing accuracy :\", model.score(X_test, Y_test))"
   ]
  },
  {
   "cell_type": "code",
   "execution_count": 118,
   "id": "f88e8184",
   "metadata": {},
   "outputs": [
    {
     "name": "stdout",
     "output_type": "stream",
     "text": [
      "              precision    recall  f1-score   support\n",
      "\n",
      "           3       0.00      0.00      0.00         1\n",
      "           5       0.00      0.00      0.00         1\n",
      "           7       0.00      0.00      0.00         1\n",
      "          10       0.00      0.00      0.00         0\n",
      "          11       0.00      0.00      0.00         0\n",
      "          12       0.00      0.00      0.00         0\n",
      "          13       0.00      0.00      0.00         1\n",
      "          16       0.00      0.00      0.00         1\n",
      "          20       0.00      0.00      0.00         1\n",
      "          21       0.00      0.00      0.00         0\n",
      "          23       0.00      0.00      0.00         1\n",
      "          24       0.00      0.00      0.00         1\n",
      "          25       0.00      0.00      0.00         1\n",
      "          26       0.00      0.00      0.00         1\n",
      "          27       0.67      1.00      0.80         2\n",
      "          28       0.00      0.00      0.00         1\n",
      "          29       0.00      0.00      0.00         0\n",
      "          30       0.00      0.00      0.00         1\n",
      "          31       0.00      0.00      0.00         1\n",
      "          32       0.00      0.00      0.00         0\n",
      "          33       0.00      0.00      0.00         1\n",
      "          36       0.00      0.00      0.00         0\n",
      "          37       0.00      0.00      0.00         0\n",
      "          40       0.00      0.00      0.00         1\n",
      "          44       0.00      0.00      0.00         1\n",
      "          45       0.00      0.00      0.00         0\n",
      "          47       0.00      0.00      0.00         0\n",
      "          48       0.00      0.00      0.00         0\n",
      "          50       0.00      0.00      0.00         1\n",
      "          52       0.00      0.00      0.00         1\n",
      "          62       0.00      0.00      0.00         0\n",
      "          64       0.00      0.00      0.00         1\n",
      "          66       0.00      0.00      0.00         1\n",
      "          67       0.00      0.00      0.00         1\n",
      "          69       0.00      0.00      0.00         0\n",
      "          71       0.00      0.00      0.00         0\n",
      "          74       0.00      0.00      0.00         0\n",
      "          75       0.00      0.00      0.00         1\n",
      "          76       0.00      0.00      0.00         0\n",
      "          77       0.00      0.00      0.00         2\n",
      "          79       0.00      0.00      0.00         0\n",
      "          80       0.00      0.00      0.00         0\n",
      "          81       0.00      0.00      0.00         1\n",
      "          83       0.00      0.00      0.00         1\n",
      "          85       0.00      0.00      0.00         0\n",
      "          86       0.00      0.00      0.00         1\n",
      "          89       0.00      0.00      0.00         0\n",
      "          90       0.00      0.00      0.00         0\n",
      "          92       0.00      0.00      0.00         1\n",
      "          93       0.00      0.00      0.00         1\n",
      "          94       0.00      0.00      0.00         0\n",
      "          95       0.00      0.00      0.00         1\n",
      "          98       0.00      0.00      0.00         1\n",
      "          99       0.00      0.00      0.00         1\n",
      "         101       0.00      0.00      0.00         0\n",
      "         102       0.00      0.00      0.00         0\n",
      "         104       0.00      0.00      0.00         0\n",
      "         110       0.00      0.00      0.00         1\n",
      "         113       0.00      0.00      0.00         1\n",
      "         115       0.00      0.00      0.00         1\n",
      "         117       0.00      0.00      0.00         1\n",
      "         118       0.00      0.00      0.00         1\n",
      "         119       0.00      0.00      0.00         1\n",
      "         120       0.00      0.00      0.00         0\n",
      "\n",
      "    accuracy                           0.05        40\n",
      "   macro avg       0.01      0.02      0.01        40\n",
      "weighted avg       0.03      0.05      0.04        40\n",
      "\n",
      "[[0 0 0 ... 0 0 0]\n",
      " [0 0 0 ... 0 0 0]\n",
      " [0 0 0 ... 0 0 0]\n",
      " ...\n",
      " [0 0 0 ... 0 0 0]\n",
      " [0 0 0 ... 0 0 0]\n",
      " [0 0 0 ... 0 0 0]]\n"
     ]
    }
   ],
   "source": [
    "# classification report\n",
    "print(classification_report(Y_test, y_pred))\n",
    "\n",
    "# confusion matrix\n",
    "print(confusion_matrix(Y_test, y_pred))"
   ]
  },
  {
   "cell_type": "code",
   "execution_count": 119,
   "id": "e2c2bad1",
   "metadata": {},
   "outputs": [
    {
     "name": "stdout",
     "output_type": "stream",
     "text": [
      "Training accuracy : 0.16875\n",
      "Testing accuracy : 0.05\n"
     ]
    }
   ],
   "source": [
    "from sklearn.svm import SVC\n",
    "\n",
    "# creating the model\n",
    "model = SVC()\n",
    "\n",
    "# feeding the training set into the model\n",
    "model.fit(X_train, Y_train)\n",
    "\n",
    "# predicting the results for the test set\n",
    "y_pred = model.predict(X_test)\n",
    "\n",
    "# calculating the training and testing accuracies\n",
    "print(\"Training accuracy :\", model.score(X_train, Y_train))\n",
    "print(\"Testing accuracy :\", model.score(X_test, Y_test))"
   ]
  },
  {
   "cell_type": "code",
   "execution_count": 122,
   "id": "18d26dd3",
   "metadata": {},
   "outputs": [
    {
     "name": "stdout",
     "output_type": "stream",
     "text": [
      "              precision    recall  f1-score   support\n",
      "\n",
      "           3       0.00      0.00      0.00         1\n",
      "           5       0.00      0.00      0.00         1\n",
      "           7       0.00      0.00      0.00         1\n",
      "          12       0.00      0.00      0.00         0\n",
      "          13       0.00      0.00      0.00         1\n",
      "          16       0.00      0.00      0.00         1\n",
      "          20       0.00      0.00      0.00         1\n",
      "          23       0.00      0.00      0.00         1\n",
      "          24       0.00      0.00      0.00         1\n",
      "          25       0.00      0.00      0.00         1\n",
      "          26       0.00      0.00      0.00         1\n",
      "          27       0.14      0.50      0.22         2\n",
      "          28       0.00      0.00      0.00         1\n",
      "          29       0.00      0.00      0.00         0\n",
      "          30       0.00      0.00      0.00         1\n",
      "          31       0.00      0.00      0.00         1\n",
      "          33       0.00      0.00      0.00         1\n",
      "          40       0.00      0.00      0.00         1\n",
      "          42       0.00      0.00      0.00         0\n",
      "          43       0.00      0.00      0.00         0\n",
      "          44       0.00      0.00      0.00         1\n",
      "          50       0.00      0.00      0.00         1\n",
      "          52       0.00      0.00      0.00         1\n",
      "          54       0.00      0.00      0.00         0\n",
      "          55       0.00      0.00      0.00         0\n",
      "          64       0.00      0.00      0.00         1\n",
      "          66       0.00      0.00      0.00         1\n",
      "          67       0.00      0.00      0.00         1\n",
      "          71       0.00      0.00      0.00         0\n",
      "          74       0.00      0.00      0.00         0\n",
      "          75       0.00      0.00      0.00         1\n",
      "          77       0.00      0.00      0.00         2\n",
      "          81       0.00      0.00      0.00         1\n",
      "          83       0.00      0.00      0.00         1\n",
      "          86       0.00      0.00      0.00         1\n",
      "          91       0.00      0.00      0.00         0\n",
      "          92       0.00      0.00      0.00         1\n",
      "          93       0.00      0.00      0.00         1\n",
      "          95       0.00      0.00      0.00         1\n",
      "          98       0.00      0.00      0.00         1\n",
      "          99       0.00      0.00      0.00         1\n",
      "         110       0.00      0.00      0.00         1\n",
      "         113       0.00      0.00      0.00         1\n",
      "         115       0.00      0.00      0.00         1\n",
      "         117       0.20      1.00      0.33         1\n",
      "         118       0.00      0.00      0.00         1\n",
      "         119       0.00      0.00      0.00         1\n",
      "\n",
      "    accuracy                           0.05        40\n",
      "   macro avg       0.01      0.03      0.01        40\n",
      "weighted avg       0.01      0.05      0.02        40\n",
      "\n",
      "[[0 0 0 ... 0 0 0]\n",
      " [0 0 0 ... 0 0 0]\n",
      " [0 0 0 ... 0 0 0]\n",
      " ...\n",
      " [0 0 0 ... 1 0 0]\n",
      " [0 0 0 ... 1 0 0]\n",
      " [0 0 0 ... 1 0 0]]\n"
     ]
    }
   ],
   "source": [
    "# classification report\n",
    "print(classification_report(Y_test, y_pred))\n",
    "\n",
    "# confusion matrix\n",
    "print(confusion_matrix(Y_test, y_pred))"
   ]
  },
  {
   "cell_type": "code",
   "execution_count": 163,
   "id": "15f527b5",
   "metadata": {},
   "outputs": [
    {
     "name": "stdout",
     "output_type": "stream",
     "text": [
      "Training accuracy : 0.9773222994269466\n",
      "Testing accuracy : 0.9596267107171835\n"
     ]
    }
   ],
   "source": [
    "# Ada Boost Regressor\n",
    "from sklearn.ensemble import AdaBoostRegressor\n",
    "model = AdaBoostRegressor()\n",
    "\n",
    "\n",
    "\n",
    "# feeding the training set into the model\n",
    "model.fit(X_train, Y_train)\n",
    "\n",
    "# predicting the results for the test set\n",
    "y_pred = model.predict(X_test)\n",
    "\n",
    "# calculating the training and testing accuracies\n",
    "print(\"Training accuracy :\", model.score(X_train, Y_train))\n",
    "print(\"Testing accuracy :\", model.score(X_test, Y_test))"
   ]
  },
  {
   "cell_type": "code",
   "execution_count": 52,
   "id": "3c40685a",
   "metadata": {},
   "outputs": [
    {
     "name": "stdout",
     "output_type": "stream",
     "text": [
      "              precision    recall  f1-score   support\n",
      "\n",
      "           3       0.00      0.00      0.00         1\n",
      "           5       0.00      0.00      0.00         1\n",
      "           7       0.00      0.00      0.00         1\n",
      "          12       0.00      0.00      0.00         0\n",
      "          13       0.00      0.00      0.00         1\n",
      "          16       0.00      0.00      0.00         1\n",
      "          20       0.00      0.00      0.00         1\n",
      "          23       0.00      0.00      0.00         1\n",
      "          24       0.00      0.00      0.00         1\n",
      "          25       0.00      0.00      0.00         1\n",
      "          26       0.00      0.00      0.00         1\n",
      "          27       0.00      0.00      0.00         2\n",
      "          28       0.00      0.00      0.00         1\n",
      "          29       0.00      0.00      0.00         0\n",
      "          30       0.00      0.00      0.00         1\n",
      "          31       0.00      0.00      0.00         1\n",
      "          33       0.00      0.00      0.00         1\n",
      "          35       0.00      0.00      0.00         0\n",
      "          36       0.00      0.00      0.00         0\n",
      "          40       0.00      0.00      0.00         1\n",
      "          43       0.00      0.00      0.00         0\n",
      "          44       0.00      0.00      0.00         1\n",
      "          50       0.00      0.00      0.00         1\n",
      "          52       0.00      0.00      0.00         1\n",
      "          54       0.00      0.00      0.00         0\n",
      "          64       0.00      0.00      0.00         1\n",
      "          66       0.00      0.00      0.00         1\n",
      "          67       0.00      0.00      0.00         1\n",
      "          74       0.00      0.00      0.00         0\n",
      "          75       0.00      0.00      0.00         1\n",
      "          77       0.00      0.00      0.00         2\n",
      "          81       0.00      0.00      0.00         1\n",
      "          83       0.00      0.00      0.00         1\n",
      "          84       0.00      0.00      0.00         0\n",
      "          86       0.00      0.00      0.00         1\n",
      "          91       0.00      0.00      0.00         0\n",
      "          92       0.00      0.00      0.00         1\n",
      "          93       0.00      0.00      0.00         1\n",
      "          95       0.00      0.00      0.00         1\n",
      "          98       0.00      0.00      0.00         1\n",
      "          99       0.00      0.00      0.00         1\n",
      "         107       0.00      0.00      0.00         0\n",
      "         110       0.00      0.00      0.00         1\n",
      "         113       0.00      0.00      0.00         1\n",
      "         115       0.00      0.00      0.00         1\n",
      "         117       0.20      1.00      0.33         1\n",
      "         118       0.00      0.00      0.00         1\n",
      "         119       0.00      0.00      0.00         1\n",
      "\n",
      "    accuracy                           0.03        40\n",
      "   macro avg       0.00      0.02      0.01        40\n",
      "weighted avg       0.01      0.03      0.01        40\n",
      "\n",
      "[[0 0 0 ... 0 0 0]\n",
      " [0 0 0 ... 0 0 0]\n",
      " [0 0 0 ... 0 0 0]\n",
      " ...\n",
      " [0 0 0 ... 1 0 0]\n",
      " [0 0 0 ... 1 0 0]\n",
      " [0 0 0 ... 1 0 0]]\n"
     ]
    }
   ],
   "source": [
    "# classification report\n",
    "print(classification_report(Y_test, y_pred))\n",
    "\n",
    "# confusion matrix\n",
    "print(confusion_matrix(Y_test, y_pred))"
   ]
  },
  {
   "cell_type": "markdown",
   "id": "6d739763",
   "metadata": {},
   "source": [
    "From the above  models we can see that Ada Boost Regressor has the best accuracy score of 97%"
   ]
  },
  {
   "cell_type": "code",
   "execution_count": 177,
   "id": "996e4753",
   "metadata": {},
   "outputs": [
    {
     "name": "stdout",
     "output_type": "stream",
     "text": [
      "{'n_estimators': [200, 288, 377, 466, 555, 644, 733, 822, 911, 1000], 'max_features': ['auto', 'sqrt'], 'max_depth': [10, 20, 30, 40, 50, 60, 70, 80, 90, 100, 110, None], 'min_samples_split': [2, 5, 10], 'min_samples_leaf': [1, 2, 4], 'bootstrap': [True, False]}\n"
     ]
    }
   ],
   "source": [
    "from sklearn.model_selection import RandomizedSearchCV\n",
    "\n",
    "\n",
    "n_estimators = [int(x) for x in np.linspace(start = 200, stop = 1000, num = 10)]\n",
    "\n",
    "max_features = ['auto', 'sqrt']\n",
    "\n",
    "max_depth = [int(x) for x in np.linspace(10, 110, num = 11)]\n",
    "max_depth.append(None)\n",
    "\n",
    "min_samples_split = [2, 5, 10]\n",
    "\n",
    "min_samples_leaf = [1, 2, 4]\n",
    "\n",
    "bootstrap = [True, False]\n",
    "\n",
    "random_grid = {'n_estimators': n_estimators,\n",
    "               'max_features': max_features,\n",
    "               'max_depth': max_depth,\n",
    "               'min_samples_split': min_samples_split,\n",
    "               'min_samples_leaf': min_samples_leaf,\n",
    "               'bootstrap': bootstrap}\n",
    "print(random_grid)"
   ]
  },
  {
   "cell_type": "code",
   "execution_count": 179,
   "id": "aaa8dcf2",
   "metadata": {},
   "outputs": [
    {
     "name": "stdout",
     "output_type": "stream",
     "text": [
      "Fitting 3 folds for each of 20 candidates, totalling 60 fits\n",
      "[CV] END bootstrap=True, max_depth=50, max_features=sqrt, min_samples_leaf=2, min_samples_split=10, n_estimators=200; total time=   0.0s\n",
      "[CV] END bootstrap=True, max_depth=50, max_features=sqrt, min_samples_leaf=2, min_samples_split=10, n_estimators=200; total time=   0.0s\n",
      "[CV] END bootstrap=True, max_depth=50, max_features=sqrt, min_samples_leaf=2, min_samples_split=10, n_estimators=200; total time=   0.0s\n",
      "[CV] END bootstrap=False, max_depth=90, max_features=sqrt, min_samples_leaf=4, min_samples_split=10, n_estimators=377; total time=   0.1s\n",
      "[CV] END bootstrap=False, max_depth=90, max_features=sqrt, min_samples_leaf=4, min_samples_split=10, n_estimators=377; total time=   0.1s\n",
      "[CV] END bootstrap=False, max_depth=90, max_features=sqrt, min_samples_leaf=4, min_samples_split=10, n_estimators=377; total time=   0.1s\n",
      "[CV] END bootstrap=False, max_depth=60, max_features=auto, min_samples_leaf=2, min_samples_split=2, n_estimators=377; total time=   0.1s\n",
      "[CV] END bootstrap=False, max_depth=60, max_features=auto, min_samples_leaf=2, min_samples_split=2, n_estimators=377; total time=   0.1s\n",
      "[CV] END bootstrap=False, max_depth=60, max_features=auto, min_samples_leaf=2, min_samples_split=2, n_estimators=377; total time=   0.1s\n",
      "[CV] END bootstrap=True, max_depth=30, max_features=sqrt, min_samples_leaf=1, min_samples_split=5, n_estimators=733; total time=   0.4s\n",
      "[CV] END bootstrap=True, max_depth=30, max_features=sqrt, min_samples_leaf=1, min_samples_split=5, n_estimators=733; total time=   0.4s\n",
      "[CV] END bootstrap=True, max_depth=30, max_features=sqrt, min_samples_leaf=1, min_samples_split=5, n_estimators=733; total time=   0.4s\n",
      "[CV] END bootstrap=False, max_depth=80, max_features=auto, min_samples_leaf=1, min_samples_split=10, n_estimators=555; total time=   0.2s\n",
      "[CV] END bootstrap=False, max_depth=80, max_features=auto, min_samples_leaf=1, min_samples_split=10, n_estimators=555; total time=   0.2s\n",
      "[CV] END bootstrap=False, max_depth=80, max_features=auto, min_samples_leaf=1, min_samples_split=10, n_estimators=555; total time=   0.2s\n",
      "[CV] END bootstrap=False, max_depth=60, max_features=sqrt, min_samples_leaf=1, min_samples_split=10, n_estimators=288; total time=   0.1s\n",
      "[CV] END bootstrap=False, max_depth=60, max_features=sqrt, min_samples_leaf=1, min_samples_split=10, n_estimators=288; total time=   0.0s\n",
      "[CV] END bootstrap=False, max_depth=60, max_features=sqrt, min_samples_leaf=1, min_samples_split=10, n_estimators=288; total time=   0.0s\n",
      "[CV] END bootstrap=False, max_depth=50, max_features=auto, min_samples_leaf=2, min_samples_split=2, n_estimators=1000; total time=   0.4s\n",
      "[CV] END bootstrap=False, max_depth=50, max_features=auto, min_samples_leaf=2, min_samples_split=2, n_estimators=1000; total time=   0.5s\n",
      "[CV] END bootstrap=False, max_depth=50, max_features=auto, min_samples_leaf=2, min_samples_split=2, n_estimators=1000; total time=   0.5s\n",
      "[CV] END bootstrap=True, max_depth=10, max_features=sqrt, min_samples_leaf=2, min_samples_split=5, n_estimators=200; total time=   0.1s\n",
      "[CV] END bootstrap=True, max_depth=10, max_features=sqrt, min_samples_leaf=2, min_samples_split=5, n_estimators=200; total time=   0.0s\n",
      "[CV] END bootstrap=True, max_depth=10, max_features=sqrt, min_samples_leaf=2, min_samples_split=5, n_estimators=200; total time=   0.0s\n",
      "[CV] END bootstrap=True, max_depth=100, max_features=auto, min_samples_leaf=4, min_samples_split=2, n_estimators=644; total time=   0.4s\n",
      "[CV] END bootstrap=True, max_depth=100, max_features=auto, min_samples_leaf=4, min_samples_split=2, n_estimators=644; total time=   0.4s\n",
      "[CV] END bootstrap=True, max_depth=100, max_features=auto, min_samples_leaf=4, min_samples_split=2, n_estimators=644; total time=   0.4s\n",
      "[CV] END bootstrap=True, max_depth=50, max_features=auto, min_samples_leaf=2, min_samples_split=5, n_estimators=1000; total time=   0.6s\n",
      "[CV] END bootstrap=True, max_depth=50, max_features=auto, min_samples_leaf=2, min_samples_split=5, n_estimators=1000; total time=   0.6s\n",
      "[CV] END bootstrap=True, max_depth=50, max_features=auto, min_samples_leaf=2, min_samples_split=5, n_estimators=1000; total time=   0.6s\n",
      "[CV] END bootstrap=False, max_depth=20, max_features=auto, min_samples_leaf=2, min_samples_split=10, n_estimators=288; total time=   0.1s\n",
      "[CV] END bootstrap=False, max_depth=20, max_features=auto, min_samples_leaf=2, min_samples_split=10, n_estimators=288; total time=   0.1s\n",
      "[CV] END bootstrap=False, max_depth=20, max_features=auto, min_samples_leaf=2, min_samples_split=10, n_estimators=288; total time=   0.1s\n",
      "[CV] END bootstrap=False, max_depth=20, max_features=sqrt, min_samples_leaf=1, min_samples_split=2, n_estimators=466; total time=   0.2s\n",
      "[CV] END bootstrap=False, max_depth=20, max_features=sqrt, min_samples_leaf=1, min_samples_split=2, n_estimators=466; total time=   0.2s\n",
      "[CV] END bootstrap=False, max_depth=20, max_features=sqrt, min_samples_leaf=1, min_samples_split=2, n_estimators=466; total time=   0.2s\n",
      "[CV] END bootstrap=True, max_depth=70, max_features=sqrt, min_samples_leaf=1, min_samples_split=5, n_estimators=555; total time=   0.3s\n",
      "[CV] END bootstrap=True, max_depth=70, max_features=sqrt, min_samples_leaf=1, min_samples_split=5, n_estimators=555; total time=   0.3s\n",
      "[CV] END bootstrap=True, max_depth=70, max_features=sqrt, min_samples_leaf=1, min_samples_split=5, n_estimators=555; total time=   0.3s\n",
      "[CV] END bootstrap=False, max_depth=70, max_features=sqrt, min_samples_leaf=2, min_samples_split=10, n_estimators=644; total time=   0.2s\n",
      "[CV] END bootstrap=False, max_depth=70, max_features=sqrt, min_samples_leaf=2, min_samples_split=10, n_estimators=644; total time=   0.2s\n",
      "[CV] END bootstrap=False, max_depth=70, max_features=sqrt, min_samples_leaf=2, min_samples_split=10, n_estimators=644; total time=   0.2s\n",
      "[CV] END bootstrap=False, max_depth=110, max_features=sqrt, min_samples_leaf=4, min_samples_split=2, n_estimators=822; total time=   0.3s\n",
      "[CV] END bootstrap=False, max_depth=110, max_features=sqrt, min_samples_leaf=4, min_samples_split=2, n_estimators=822; total time=   0.3s\n",
      "[CV] END bootstrap=False, max_depth=110, max_features=sqrt, min_samples_leaf=4, min_samples_split=2, n_estimators=822; total time=   0.3s\n",
      "[CV] END bootstrap=False, max_depth=50, max_features=auto, min_samples_leaf=1, min_samples_split=10, n_estimators=555; total time=   0.2s\n",
      "[CV] END bootstrap=False, max_depth=50, max_features=auto, min_samples_leaf=1, min_samples_split=10, n_estimators=555; total time=   0.2s\n",
      "[CV] END bootstrap=False, max_depth=50, max_features=auto, min_samples_leaf=1, min_samples_split=10, n_estimators=555; total time=   0.2s\n",
      "[CV] END bootstrap=True, max_depth=30, max_features=sqrt, min_samples_leaf=1, min_samples_split=10, n_estimators=555; total time=   0.3s\n",
      "[CV] END bootstrap=True, max_depth=30, max_features=sqrt, min_samples_leaf=1, min_samples_split=10, n_estimators=555; total time=   0.2s\n",
      "[CV] END bootstrap=True, max_depth=30, max_features=sqrt, min_samples_leaf=1, min_samples_split=10, n_estimators=555; total time=   0.3s\n",
      "[CV] END bootstrap=True, max_depth=70, max_features=auto, min_samples_leaf=1, min_samples_split=2, n_estimators=377; total time=   0.2s\n",
      "[CV] END bootstrap=True, max_depth=70, max_features=auto, min_samples_leaf=1, min_samples_split=2, n_estimators=377; total time=   0.2s\n",
      "[CV] END bootstrap=True, max_depth=70, max_features=auto, min_samples_leaf=1, min_samples_split=2, n_estimators=377; total time=   0.2s\n",
      "[CV] END bootstrap=False, max_depth=30, max_features=auto, min_samples_leaf=2, min_samples_split=2, n_estimators=911; total time=   0.4s\n",
      "[CV] END bootstrap=False, max_depth=30, max_features=auto, min_samples_leaf=2, min_samples_split=2, n_estimators=911; total time=   0.4s\n",
      "[CV] END bootstrap=False, max_depth=30, max_features=auto, min_samples_leaf=2, min_samples_split=2, n_estimators=911; total time=   0.4s\n",
      "[CV] END bootstrap=True, max_depth=None, max_features=auto, min_samples_leaf=4, min_samples_split=2, n_estimators=822; total time=   0.5s\n",
      "[CV] END bootstrap=True, max_depth=None, max_features=auto, min_samples_leaf=4, min_samples_split=2, n_estimators=822; total time=   0.5s\n",
      "[CV] END bootstrap=True, max_depth=None, max_features=auto, min_samples_leaf=4, min_samples_split=2, n_estimators=822; total time=   0.4s\n"
     ]
    },
    {
     "data": {
      "text/plain": [
       "RandomizedSearchCV(cv=3, estimator=RandomForestRegressor(), n_iter=20,\n",
       "                   param_distributions={'bootstrap': [True, False],\n",
       "                                        'max_depth': [10, 20, 30, 40, 50, 60,\n",
       "                                                      70, 80, 90, 100, 110,\n",
       "                                                      None],\n",
       "                                        'max_features': ['auto', 'sqrt'],\n",
       "                                        'min_samples_leaf': [1, 2, 4],\n",
       "                                        'min_samples_split': [2, 5, 10],\n",
       "                                        'n_estimators': [200, 288, 377, 466,\n",
       "                                                         555, 644, 733, 822,\n",
       "                                                         911, 1000]},\n",
       "                   random_state=42, verbose=2)"
      ]
     },
     "execution_count": 179,
     "metadata": {},
     "output_type": "execute_result"
    }
   ],
   "source": [
    "# Use the random grid to search for best hyperparameters\n",
    "\n",
    "regressor = RandomForestRegressor()\n",
    "# Random search of parameters, using 3 fold cross validation, \n",
    "\n",
    "regressor_random = RandomizedSearchCV(estimator = regressor,\n",
    "                                      param_distributions = random_grid,\n",
    "                                      n_iter = 20,\n",
    "                                      cv = 3,\n",
    "                                      verbose=2,\n",
    "                                      random_state=42,)\n",
    "\n",
    "regressor_random.fit(X_train, Y_train)"
   ]
  },
  {
   "cell_type": "code",
   "execution_count": 176,
   "id": "d8556940",
   "metadata": {},
   "outputs": [],
   "source": [
    "# Hyperparameter Tuning \n",
    "#Using Ada Boost Regressor\n",
    "fmod_param = {'n_estimators' : [50, 100, 150, 200],\n",
    "              'learning_rate' : [0.001, 0.01, 0.1, 1],\n",
    "              'loss' : [\"linear\", \"square\", \"exponential\"],\n",
    "              'random_state' : [21, 42, 104, 111]\n",
    "             }\n"
   ]
  },
  {
   "cell_type": "code",
   "execution_count": 173,
   "id": "eed39716",
   "metadata": {},
   "outputs": [],
   "source": [
    "GSCV = GridSearchCV(AdaBoostRegressor(), fmod_param, cv=5)"
   ]
  },
  {
   "cell_type": "code",
   "execution_count": 174,
   "id": "2da72890",
   "metadata": {},
   "outputs": [
    {
     "data": {
      "text/plain": [
       "GridSearchCV(cv=5, estimator=AdaBoostRegressor(),\n",
       "             param_grid={'learning_rate': [0.001, 0.01, 0.1, 1],\n",
       "                         'loss': ['linear', 'square', 'exponential'],\n",
       "                         'n_estimators': [50, 100, 150, 200],\n",
       "                         'random_state': [21, 42, 104, 111]})"
      ]
     },
     "execution_count": 174,
     "metadata": {},
     "output_type": "execute_result"
    }
   ],
   "source": [
    "GSCV.fit(X_train,Y_train)"
   ]
  },
  {
   "cell_type": "code",
   "execution_count": 175,
   "id": "580fd783",
   "metadata": {},
   "outputs": [
    {
     "data": {
      "text/plain": [
       "{'learning_rate': 1, 'loss': 'square', 'n_estimators': 150, 'random_state': 42}"
      ]
     },
     "execution_count": 175,
     "metadata": {},
     "output_type": "execute_result"
    }
   ],
   "source": [
    "GSCV.best_params_"
   ]
  },
  {
   "cell_type": "code",
   "execution_count": 180,
   "id": "985ff874",
   "metadata": {},
   "outputs": [],
   "source": [
    "# Saving The Model\n",
    "import pickle\n",
    "file = 'Sales Channel'\n",
    "#save file\n",
    "save = pickle.dump(AdaBoostRegressor,open(file,'wb'))"
   ]
  },
  {
   "cell_type": "code",
   "execution_count": null,
   "id": "94413b1e",
   "metadata": {},
   "outputs": [],
   "source": []
  }
 ],
 "metadata": {
  "kernelspec": {
   "display_name": "Python 3",
   "language": "python",
   "name": "python3"
  },
  "language_info": {
   "codemirror_mode": {
    "name": "ipython",
    "version": 3
   },
   "file_extension": ".py",
   "mimetype": "text/x-python",
   "name": "python",
   "nbconvert_exporter": "python",
   "pygments_lexer": "ipython3",
   "version": "3.8.8"
  }
 },
 "nbformat": 4,
 "nbformat_minor": 5
}
